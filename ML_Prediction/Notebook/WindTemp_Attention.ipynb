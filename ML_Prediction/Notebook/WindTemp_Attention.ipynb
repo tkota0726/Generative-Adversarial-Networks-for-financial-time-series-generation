{
  "nbformat": 4,
  "nbformat_minor": 0,
  "metadata": {
    "colab": {
      "name": "WindTemp_Attention.ipynb",
      "version": "0.3.2",
      "provenance": [],
      "collapsed_sections": [],
      "toc_visible": true,
      "include_colab_link": true
    },
    "kernelspec": {
      "name": "python3",
      "display_name": "Python 3"
    },
    "accelerator": "TPU"
  },
  "cells": [
    {
      "cell_type": "markdown",
      "metadata": {
        "id": "view-in-github",
        "colab_type": "text"
      },
      "source": [
        "<a href=\"https://colab.research.google.com/github/tkota0726/Generative-Adversarial-Networks-for-financial-time-series-generation/blob/master/ML_Prediction/Notebook/WindTemp_Attention.ipynb\" target=\"_parent\"><img src=\"https://colab.research.google.com/assets/colab-badge.svg\" alt=\"Open In Colab\"/></a>"
      ]
    },
    {
      "metadata": {
        "colab_type": "text",
        "id": "ZSaY1XXvQL_x"
      },
      "cell_type": "markdown",
      "source": [
        "<h1 style=\"text-align:center\">RBA Prediction Part with Attention</h1>"
      ]
    },
    {
      "metadata": {
        "colab_type": "text",
        "id": "V4wxj--DTD2O"
      },
      "cell_type": "markdown",
      "source": [
        "# Table of contents\n",
        "\n",
        "1. [Library Import](#Library) \n",
        "* [Data Extract Class](#Data)  \n",
        "  2.1 [Data Source Information](#DataSource)  \n",
        "* [Batch Generator Function](#Batch)  \n",
        "* [Checkpoint, Loss and Callback functions](#Check)  \n",
        "* [Plot Class](#Plot)  \n",
        "* [Structure of Data](#Structrue)  \n",
        "* [LSTM with Multi inputs](#LSTM)  \n",
        "* [GRU with Multi inputs](#GRU)  \n",
        "* [ANN with Multi Inputs](#ANN)  \n",
        "* [Attention with Multi Inputs](#Attention)  \n",
        "* [Gans with Multi Inputs](#Gans)  \n"
      ]
    },
    {
      "metadata": {
        "colab_type": "text",
        "id": "fPDWnYe7-QQc"
      },
      "cell_type": "markdown",
      "source": [
        "## Library Import\n",
        "<a name=\"library\"> </a>"
      ]
    },
    {
      "metadata": {
        "colab_type": "code",
        "id": "jMpqjp5IQQDK",
        "outputId": "24d9e188-4f46-4a35-8ad9-db6e82ae0c50",
        "colab": {
          "base_uri": "https://localhost:8080/",
          "height": 530
        }
      },
      "cell_type": "code",
      "source": [
        "from math import sqrt\n",
        "from numpy import concatenate\n",
        "import matplotlib.pyplot as plt\n",
        "import pandas as pd\n",
        "from pandas import Series\n",
        "from datetime import datetime\n",
        "# import tensorflow as tf\n",
        "import numpy as np\n",
        "import time\n",
        "from keras.callbacks import ModelCheckpoint\n",
        "\n",
        "\n",
        "import io\n",
        "import os\n",
        "import os.path\n",
        "from keras.models import Sequential\n",
        "from keras.layers import Dense, Embedding, LSTM, GRU, Flatten, Dropout, Lambda, Activation, Input\n",
        "from keras import losses\n",
        "from keras.callbacks import EarlyStopping, ModelCheckpoint, TensorBoard, ReduceLROnPlateau\n",
        "from keras.layers.core import Layer\n",
        "from keras.layers.core import K\n",
        "from keras import initializers, regularizers, constraints  \n",
        "from keras import metrics\n",
        "from tensorboardcolab import *\n",
        "\n",
        "!pip install pydrive\n",
        "## Tensorflow board\n",
        "\n",
        "# !pip install -q tf-nightly-2.0-preview\n",
        "!pip install tensorboard\n",
        "\n",
        "# Load the TensorBoard notebook extension\n",
        "# %load_ext tensorboard.notebook\n",
        "# %reload_ext tensorboard.notebook\n",
        "%matplotlib inline\n"
      ],
      "execution_count": 0,
      "outputs": [
        {
          "output_type": "stream",
          "text": [
            "Using TensorFlow backend.\n"
          ],
          "name": "stderr"
        },
        {
          "output_type": "stream",
          "text": [
            "Collecting pydrive\n",
            "\u001b[?25l  Downloading https://files.pythonhosted.org/packages/52/e0/0e64788e5dd58ce2d6934549676243dc69d982f198524be9b99e9c2a4fd5/PyDrive-1.3.1.tar.gz (987kB)\n",
            "\u001b[K    100% |████████████████████████████████| 993kB 20.2MB/s \n",
            "\u001b[?25hRequirement already satisfied: google-api-python-client>=1.2 in /usr/local/lib/python3.6/dist-packages (from pydrive) (1.6.7)\n",
            "Requirement already satisfied: oauth2client>=4.0.0 in /usr/local/lib/python3.6/dist-packages (from pydrive) (4.1.3)\n",
            "Requirement already satisfied: PyYAML>=3.0 in /usr/local/lib/python3.6/dist-packages (from pydrive) (3.13)\n",
            "Requirement already satisfied: uritemplate<4dev,>=3.0.0 in /usr/local/lib/python3.6/dist-packages (from google-api-python-client>=1.2->pydrive) (3.0.0)\n",
            "Requirement already satisfied: httplib2<1dev,>=0.9.2 in /usr/local/lib/python3.6/dist-packages (from google-api-python-client>=1.2->pydrive) (0.11.3)\n",
            "Requirement already satisfied: six<2dev,>=1.6.1 in /usr/local/lib/python3.6/dist-packages (from google-api-python-client>=1.2->pydrive) (1.11.0)\n",
            "Requirement already satisfied: pyasn1>=0.1.7 in /usr/local/lib/python3.6/dist-packages (from oauth2client>=4.0.0->pydrive) (0.4.5)\n",
            "Requirement already satisfied: pyasn1-modules>=0.0.5 in /usr/local/lib/python3.6/dist-packages (from oauth2client>=4.0.0->pydrive) (0.2.4)\n",
            "Requirement already satisfied: rsa>=3.1.4 in /usr/local/lib/python3.6/dist-packages (from oauth2client>=4.0.0->pydrive) (4.0)\n",
            "Building wheels for collected packages: pydrive\n",
            "  Building wheel for pydrive (setup.py) ... \u001b[?25ldone\n",
            "\u001b[?25h  Stored in directory: /root/.cache/pip/wheels/fa/d2/9a/d3b6b506c2da98289e5d417215ce34b696db856643bad779f4\n",
            "Successfully built pydrive\n",
            "Installing collected packages: pydrive\n",
            "Successfully installed pydrive-1.3.1\n",
            "Requirement already satisfied: tensorboard in /usr/local/lib/python3.6/dist-packages (1.13.0)\n",
            "Requirement already satisfied: grpcio>=1.6.3 in /usr/local/lib/python3.6/dist-packages (from tensorboard) (1.15.0)\n",
            "Requirement already satisfied: wheel>=0.26; python_version >= \"3\" in /usr/local/lib/python3.6/dist-packages (from tensorboard) (0.33.1)\n",
            "Requirement already satisfied: protobuf>=3.6.0 in /usr/local/lib/python3.6/dist-packages (from tensorboard) (3.6.1)\n",
            "Requirement already satisfied: werkzeug>=0.11.15 in /usr/local/lib/python3.6/dist-packages (from tensorboard) (0.14.1)\n",
            "Requirement already satisfied: markdown>=2.6.8 in /usr/local/lib/python3.6/dist-packages (from tensorboard) (3.0.1)\n",
            "Requirement already satisfied: absl-py>=0.4 in /usr/local/lib/python3.6/dist-packages (from tensorboard) (0.7.0)\n",
            "Requirement already satisfied: six>=1.10.0 in /usr/local/lib/python3.6/dist-packages (from tensorboard) (1.11.0)\n",
            "Requirement already satisfied: numpy>=1.12.0 in /usr/local/lib/python3.6/dist-packages (from tensorboard) (1.14.6)\n",
            "Requirement already satisfied: setuptools in /usr/local/lib/python3.6/dist-packages (from protobuf>=3.6.0->tensorboard) (40.8.0)\n"
          ],
          "name": "stdout"
        }
      ]
    },
    {
      "metadata": {
        "colab_type": "text",
        "id": "tin1zzvrRXWn"
      },
      "cell_type": "markdown",
      "source": [
        "<a name=\"Data\"> </a>\n",
        "## Data Extract Class\n"
      ]
    },
    {
      "metadata": {
        "colab_type": "text",
        "id": "NH6IB2UbXJzD"
      },
      "cell_type": "markdown",
      "source": [
        "### Data Source Information\n",
        "\"# Renewables.ninja Wind (hourly data, split by on/offshore, 1980-2016) - ninja_wind_country_EE_current-merra-2_corrected - Version: 1.1 - License: https://creativecommons.org/licenses/by-nc/4.0/ - Reference: https://doi.org/10.1016/j.energy.2016.08.068\",\n",
        "\"# Units: time in UTC, other columns are capacity factors [0-1]. Simulation represents 297 MW of capacity, all of which onshore. Bias corrected using national generation data.\",\n",
        "time,national"
      ]
    },
    {
      "metadata": {
        "colab_type": "code",
        "id": "zGpobEWGRWfU",
        "colab": {}
      },
      "cell_type": "code",
      "source": [
        "class GenerateData:\n",
        "    def __init__(self):\n",
        "        pass\n",
        "\n",
        "    # Data Extract Section\n",
        "    def dataDriveExtract():\n",
        "        auth.authenticate_user()  # Auth check\n",
        "        gauth = GoogleAuth()  # google Auth Instance\n",
        "        gauth.credentials = GoogleCredentials.get_application_default()  # credential part\n",
        "        drive = GoogleDrive(gauth)  # put the credential information to drive\n",
        "\n",
        "        # Specify the file location about Estonia\n",
        "        downloaded = drive.CreateFile({'id': fileId})\n",
        "        # download the file with the file name\n",
        "        downloaded.GetContentFile(fileName)\n",
        "        # load the data via pandas\n",
        "        data = pd.read_excel(fileName, encoding='utf-8')\n",
        "        data = data.set_index('time')  # set 'time' as the index\n",
        "        return data\n",
        "\n",
        "    def dataLocalExtract():\n",
        "        data = pd.read_excel(fileName, encoding='utf-8')\n",
        "        data = data.set_index('time')\n",
        "        # series = Series.from_csv('wind1980_2016EE.csv', encoding = 'utf-8', header=0)\n",
        "        return data"
      ],
      "execution_count": 0,
      "outputs": []
    },
    {
      "metadata": {
        "colab_type": "text",
        "id": "LHXxRpUh8yq7"
      },
      "cell_type": "markdown",
      "source": [
        "### Structure of  Data and Change the format"
      ]
    },
    {
      "metadata": {
        "colab_type": "code",
        "id": "QCB_g9XOWAsi",
        "outputId": "9c6ab364-2cef-4ed2-d788-51bf8c03d531",
        "colab": {
          "base_uri": "https://localhost:8080/",
          "height": 748
        }
      },
      "cell_type": "code",
      "source": [
        "## TImeSeries data\n",
        "\n",
        "Data = GenerateData\n",
        "dataOption = 'Local'\n",
        "\n",
        "if dataOption == 'Drive':\n",
        "    from google.colab import auth\n",
        "    from oauth2client.client import GoogleCredentials\n",
        "    from google.colab import drive\n",
        "    from google.colab import files\n",
        "    import pydrive\n",
        "    from pydrive.auth import GoogleAuth\n",
        "    from pydrive.drive import GoogleDrive\n",
        "    fileName = 'wind_temp_2016.xlsx'\n",
        "    fileId = '1iRMuDutawDvnB2TfEY9wedm6SIAwt0U8'\n",
        "    drive.mount('/content/gdrive')\n",
        "    df = Data.dataDriveExtract()\n",
        "    \n",
        "elif dataOption == 'Local':\n",
        "    fileName = 'wind_temp_2016.xlsx'\n",
        "    df = Data.dataLocalExtract()\n",
        "\n",
        "df_time = df\n",
        "print(df_time.head())\n",
        "print(df_time.shape)\n",
        "# print(df_time.describe())\n",
        "\n",
        "# Set the date type to 'time' column\n",
        "df_time.index = pd.to_datetime(df_time.index)\n",
        "\n",
        "def min_max_normalization(x):\n",
        "    x_min = x.min()\n",
        "    x_max = x.max()\n",
        "    x_norm = (x - x_min) / ( x_max - x_min)\n",
        "    return x_norm\n",
        "\n",
        "## Input: w_s(t)\tw_s(t+∆t)\tt\tt+∆t\t∆w_s\t∆t\tθ(∆w_s)\tmean(∆w_s) output:  w_s(t), ∆w_s, ∆t, θ(∆w_s)\n",
        "# df_time['w_s(t)'] = min_max_normalization(df_time['w_s(t)'])\n",
        "# df_time['w_s(t+∆t)'] = min_max_normalization(df_time['w_s(t+∆t)'])\n",
        "# df_time['t'] = min_max_normalization(df_time['t'])\n",
        "# df_time['t+∆t'] = min_max_normalization(df_time['t+∆t'])\n",
        "# df_time['∆w_s'] = min_max_normalization(df_time['∆w_s'])\n",
        "# df_time['∆t'] = min_max_normalization(df_time['∆t'])\n",
        "# df_time['θ(∆w_s)'] = min_max_normalization(df_time['θ(∆w_s)'])\n",
        "df_time['temperature'] = min_max_normalization(df_time['temperature'])\n",
        "print(df_time.describe())"
      ],
      "execution_count": 0,
      "outputs": [
        {
          "output_type": "stream",
          "text": [
            "                     national  precipitation  temperature  irradiance_surface  \\\n",
            "time                                                                            \n",
            "2016-01-01 00:00:00    0.2846         0.0039       -7.673                 0.0   \n",
            "2016-01-01 01:00:00    0.2818         0.0038       -7.603                 0.0   \n",
            "2016-01-01 02:00:00    0.2811         0.0034       -7.586                 0.0   \n",
            "2016-01-01 03:00:00    0.2770         0.0034       -7.580                 0.0   \n",
            "2016-01-01 04:00:00    0.2637         0.0035       -7.614                 0.0   \n",
            "\n",
            "                     irradiance_toa  snowfall  snow_depth  cloud_cover  \\\n",
            "time                                                                     \n",
            "2016-01-01 00:00:00             0.0    0.0039     14.2598       0.3818   \n",
            "2016-01-01 01:00:00             0.0    0.0038     14.6543       0.4176   \n",
            "2016-01-01 02:00:00             0.0    0.0034     16.1187       0.5286   \n",
            "2016-01-01 03:00:00             0.0    0.0034     16.3627       0.5126   \n",
            "2016-01-01 04:00:00             0.0    0.0035     15.7962       0.4088   \n",
            "\n",
            "                     air_density  \n",
            "time                              \n",
            "2016-01-01 00:00:00       1.3578  \n",
            "2016-01-01 01:00:00       1.3576  \n",
            "2016-01-01 02:00:00       1.3576  \n",
            "2016-01-01 03:00:00       1.3576  \n",
            "2016-01-01 04:00:00       1.3575  \n",
            "(8785, 9)\n",
            "          national  precipitation  temperature  irradiance_surface  \\\n",
            "count  8785.000000    8784.000000  8784.000000         8784.000000   \n",
            "mean      0.232801       0.078856     0.547201          126.642965   \n",
            "std       0.192317       0.190683     0.215992          198.310996   \n",
            "min       0.000000       0.000000     0.000000            0.000000   \n",
            "25%       0.079200       0.002600     0.390563            0.000000   \n",
            "50%       0.179100       0.014650     0.500775            4.293850   \n",
            "75%       0.336000       0.059500     0.745932          197.673425   \n",
            "max       0.908000       4.846800     1.000000          848.330600   \n",
            "\n",
            "       irradiance_toa     snowfall   snow_depth  cloud_cover  air_density  \n",
            "count     8784.000000  8784.000000  8784.000000  8784.000000  8784.000000  \n",
            "mean       240.382114     0.019724     6.921339     0.609929     1.255263  \n",
            "std        323.501707     0.071139     7.490431     0.301835     0.043520  \n",
            "min          0.000000     0.000000     0.000000     0.000000     1.169300  \n",
            "25%          0.000000     0.000000     0.000000     0.362650     1.216500  \n",
            "50%         22.859700     0.000000     0.437950     0.655650     1.255200  \n",
            "75%        440.544625     0.005925    14.683100     0.893225     1.288900  \n",
            "max       1068.679300     1.192100    21.466900     0.999400     1.398200  \n"
          ],
          "name": "stdout"
        }
      ]
    },
    {
      "metadata": {
        "colab_type": "text",
        "id": "pjHLizSe-Gc_"
      },
      "cell_type": "markdown",
      "source": [
        "### Batch Generator Function"
      ]
    },
    {
      "metadata": {
        "colab_type": "code",
        "id": "JOhEox0H-GDD",
        "colab": {}
      },
      "cell_type": "code",
      "source": [
        "def batch_generator(batch_size, sequence_length):\n",
        "        \"\"\"\n",
        "    Generator function for creating random batches of training-data.\n",
        "    \"\"\"\n",
        "        # Infinite loop.\n",
        "        while True:\n",
        "            # Allocate a new array for the batch of input-signals.\n",
        "            x_shape = (batch_size, sequence_length, num_x_signals)\n",
        "            x_batch = np.zeros(shape=x_shape, dtype=np.float16)\n",
        "\n",
        "            # Allocate a new array for the batch of output-signals.\n",
        "            y_shape = ( batch_size, sequence_length, num_y_signals)\n",
        "            y_batch = np.zeros(shape=y_shape, dtype=np.float16)\n",
        "\n",
        "            # Fill the batch with random sequences of data.\n",
        "            for i in range(batch_size):\n",
        "                # Get a random start-index.\n",
        "                # This points somewhere into the training-data.\n",
        "                idx = np.random.randint(num_train - sequence_length)\n",
        "                # Copy the sequences of data starting at this index.\n",
        "                x_batch[i] = x_train[idx:idx+sequence_length]\n",
        "                y_batch[i] = y_train[idx:idx+sequence_length]\n",
        "                \n",
        "                yield (x_batch, y_batch)"
      ],
      "execution_count": 0,
      "outputs": []
    },
    {
      "metadata": {
        "colab_type": "code",
        "id": "fBKdq_7QAZUh",
        "outputId": "ffea4e56-a59f-4dca-ca35-ac2905e52dc1",
        "colab": {
          "base_uri": "https://localhost:8080/",
          "height": 731
        }
      },
      "cell_type": "code",
      "source": [
        "## Specify the train and target data\n",
        "## column name: ['time', 'national', 'w_s(t)','w_s(t+∆t)','t','t+∆t','∆w_s','∆t','θ(∆w_s)','mean(∆w_s)','f(∆w_s)','f(∆t)','f(θ(∆w_s))','f(mean(∆w_s))']\n",
        "## Definition of the each column Name:\n",
        "'''\n",
        "'time' : Incident Time  yyyy-mm-dd hh:mm:ss\n",
        "'national' : Capacity factors [0-1]. Simulation represents 297 MW of capacity.\n",
        "'w_s(t)' : Persistence Value\n",
        "'w_s(t+∆t)' : Persistence Value\n",
        "'t' : Event Presented time\n",
        "'t+∆t' : Time difference\n",
        "'∆w_s' : Persistance Value gap\n",
        "'∆t' : Time gap\n",
        "'θ(∆w_s)' : Angle between two significant changes Δw_s and Δt\n",
        "'mean(∆w_s)' : Average of Δw_s\n",
        "'f(∆w_s)' : Frequence of Δw_s\n",
        "'f(∆t)' : Frequence of Δt\n",
        "'f(θ(∆w_s))' : Frequence of Angle of Δw_s\n",
        "'f(mean(∆w_s))' : Frequence of Mean of Δw_s\n",
        "'''\n",
        "# train = ['w_s(t)', 'w_s(t+∆t)','t','t+∆t','∆w_s','∆t','θ(∆w_s)','mean(∆w_s)']\n",
        "# target = ['t','∆w_s','∆t','θ(∆w_s)']\n",
        "train = ['national', 'temperature']\n",
        "target = ['national']\n",
        "print(df_time.head())\n",
        "shift_days = 7\n",
        "shift_steps = shift_days * 1  # Number of hours\n",
        "df_train = df_time.loc[:, train].shift(-shift_steps).fillna(0)\n",
        "df_targets = df_time.loc[:,target].shift(-shift_steps)\n",
        "\n",
        "print('-'*40)\n",
        "## Define X_data\n",
        "x_data = df_train[0:-shift_steps]\n",
        "print(\"X_data Shape:\", x_data.shape)\n",
        "print('-'*40)\n",
        "## Define Y_data\n",
        "y_data = df_targets[:-shift_steps]\n",
        "print(\"Y_data Shape:\", y_data.shape)\n",
        "\n",
        "print('-'*40)\n",
        "## Number of Data size\n",
        "num_data = len(x_data)\n",
        "print(\"Number of Data:\", num_data)\n",
        "\n",
        "## Split Data by Test and Train\n",
        "train_split = 0.8\n",
        "num_train = int(train_split * num_data)\n",
        "print(\"number of Train Data: \", num_train)\n",
        "num_test = num_data - num_train\n",
        "print(\"number of Test Data: \", num_test)\n",
        "print('-'*40)\n",
        "\n",
        "## Store X data to Train and Test\n",
        "x_train = x_data[0:num_train]\n",
        "x_test = x_data[num_train:]\n",
        "\n",
        "print(\"x_train shape\", x_train.shape)\n",
        "print(\"x_test shape\", x_test.shape)\n",
        "\n",
        "## Store Y data to Train and Test\n",
        "y_train = y_data[0:num_train]\n",
        "y_test = y_data[num_train:]\n",
        "\n",
        "print(\"y_train shape\", y_train.shape)\n",
        "print(\"y_test shape\", y_test.shape)\n",
        "print('-'*40)\n",
        "\n",
        "## Degfine number of signals\n",
        "num_x_signals = x_data.shape[1]\n",
        "print(\"Number of X signal\", num_x_signals)\n",
        "\n",
        "num_y_signals = y_data.shape[1]\n",
        "print(\"Number of Y signal\", num_y_signals)\n",
        "\n",
        "batch_size = 100\n",
        "sequence_length = 24 * 7 * 10 ##24 hours x 7days = 168\n",
        "generator = batch_generator(batch_size=batch_size,\n",
        "                            sequence_length=sequence_length)\n",
        "\n",
        "print('-'*40)\n",
        "## Check the batch size\n",
        "x_batch, y_batch = next(generator)\n",
        "print(\"x_batch shape\", x_batch.shape)\n",
        "print(\"y_batch shape\", y_batch.shape)\n",
        "\n",
        "## Validation Set\n",
        "validation_data = (np.expand_dims(x_test, axis=0),\n",
        "                   np.expand_dims(y_test, axis=0))"
      ],
      "execution_count": 0,
      "outputs": [
        {
          "output_type": "stream",
          "text": [
            "                     national  precipitation  temperature  irradiance_surface  \\\n",
            "time                                                                            \n",
            "2016-01-01 00:00:00    0.2846         0.0039     0.210375                 0.0   \n",
            "2016-01-01 01:00:00    0.2818         0.0038     0.212070                 0.0   \n",
            "2016-01-01 02:00:00    0.2811         0.0034     0.212482                 0.0   \n",
            "2016-01-01 03:00:00    0.2770         0.0034     0.212627                 0.0   \n",
            "2016-01-01 04:00:00    0.2637         0.0035     0.211803                 0.0   \n",
            "\n",
            "                     irradiance_toa  snowfall  snow_depth  cloud_cover  \\\n",
            "time                                                                     \n",
            "2016-01-01 00:00:00             0.0    0.0039     14.2598       0.3818   \n",
            "2016-01-01 01:00:00             0.0    0.0038     14.6543       0.4176   \n",
            "2016-01-01 02:00:00             0.0    0.0034     16.1187       0.5286   \n",
            "2016-01-01 03:00:00             0.0    0.0034     16.3627       0.5126   \n",
            "2016-01-01 04:00:00             0.0    0.0035     15.7962       0.4088   \n",
            "\n",
            "                     air_density  \n",
            "time                              \n",
            "2016-01-01 00:00:00       1.3578  \n",
            "2016-01-01 01:00:00       1.3576  \n",
            "2016-01-01 02:00:00       1.3576  \n",
            "2016-01-01 03:00:00       1.3576  \n",
            "2016-01-01 04:00:00       1.3575  \n",
            "----------------------------------------\n",
            "X_data Shape: (8778, 2)\n",
            "----------------------------------------\n",
            "Y_data Shape: (8778, 1)\n",
            "----------------------------------------\n",
            "Number of Data: 8778\n",
            "number of Train Data:  7022\n",
            "number of Test Data:  1756\n",
            "----------------------------------------\n",
            "x_train shape (7022, 2)\n",
            "x_test shape (1756, 2)\n",
            "y_train shape (7022, 1)\n",
            "y_test shape (1756, 1)\n",
            "----------------------------------------\n",
            "Number of X signal 2\n",
            "Number of Y signal 1\n",
            "----------------------------------------\n",
            "x_batch shape (100, 1680, 2)\n",
            "y_batch shape (100, 1680, 1)\n"
          ],
          "name": "stdout"
        }
      ]
    },
    {
      "metadata": {
        "colab_type": "text",
        "id": "8yXPkc0N9nFn"
      },
      "cell_type": "markdown",
      "source": [
        "## Checkpoint, Loss and Callback functions\n"
      ]
    },
    {
      "metadata": {
        "colab_type": "code",
        "id": "j-0QHNvu9g_x",
        "colab": {}
      },
      "cell_type": "code",
      "source": [
        "def checkpoint_callback(model):    \n",
        "\n",
        "    path_checkpoint = 'checkpoint.keras-' + model  ## Store the check point\n",
        "    callback_checkpoint = ModelCheckpoint(filepath=path_checkpoint,\n",
        "                                        monitor='loss',\n",
        "                                        verbose=1,\n",
        "                                        save_weights_only=True,\n",
        "                                        save_best_only=True)\n",
        "\n",
        "\n",
        "    callback_early_stopping = EarlyStopping(monitor='loss', patience=1000, verbose=1)## Save the callback data\n",
        "    \n",
        "#     callback_tensorboard = TensorBoard(log_dir='./logs-'+ model+'/',\n",
        "#                                      histogram_freq=1,\n",
        "#                                      write_graph=False,\n",
        "#                                      write_images=False)\n",
        "\n",
        "    callback_reduce_lr = ReduceLROnPlateau(monitor='val_loss',\n",
        "                                         factor=0.001,\n",
        "                                         min_lr=1e-3,\n",
        "                                         patience=0,\n",
        "                                         verbose=1)\n",
        "\n",
        "    callbacks = [callback_early_stopping,\n",
        "               callback_checkpoint,\n",
        "#                callback_tensorboard,\n",
        "               callback_reduce_lr]\n",
        "    return  callbacks\n",
        "  \n",
        "def lossPlot(history):\n",
        "    plt.plot(history.history['loss'], label='train')   # Loss Measurement\n",
        "    plt.plot(history.history['val_loss'], label='test')\n",
        "    plt.legend()\n",
        "    plt.ylabel('loss')\n",
        "    plt.xlabel('epoch')\n",
        "    plt.show()\n",
        "\n",
        "    \n",
        "    \n",
        "def accuracyPlot(history):\n",
        "#     plt.plot(history.history['acc'])\n",
        "    plt.plot(history.history['val_acc'])\n",
        "    plt.ylabel('accuracy')\n",
        "    plt.xlabel('epoch')\n",
        "    plt.legend(['train', 'test'], loc='upper right')\n",
        "    plt.show()\n",
        "    \n",
        "def loadWeight(model):\n",
        "    try:\n",
        "        model.load_weights(path_checkpoint)\n",
        "    except Exception as error:\n",
        "            print(\"Error trying to load checkpoint.\")\n",
        "    print(error)\n",
        "    \n",
        "    result = model.evaluate(x=np.expand_dims(x_test, axis=0),\n",
        "                          y=np.expand_dims(y_test, axis=0))    \n",
        "\n",
        "    print(\"loss (test-set):\", result)"
      ],
      "execution_count": 0,
      "outputs": []
    },
    {
      "metadata": {
        "colab_type": "text",
        "id": "CNLvriO29GB1"
      },
      "cell_type": "markdown",
      "source": [
        "###  Plot Class"
      ]
    },
    {
      "metadata": {
        "colab_type": "code",
        "id": "kKV9zXoW9FLB",
        "colab": {}
      },
      "cell_type": "code",
      "source": [
        "\n",
        "class Plot():\n",
        "              # Export the result as Excel File\n",
        "#             import openpyxl\n",
        "#             dfResult.to_excel('./result.xlsx')\n",
        "#             dfResult.describe().to_excel('./describe.xlsx')\n",
        "\n",
        "    def plot_comparison(model, start_idx, length, train):\n",
        "        if train:\n",
        "            # Use training-data.\n",
        "            condition = \"Train\"\n",
        "            x = x_train\n",
        "            y_true = y_train\n",
        "        else:\n",
        "            condition = \"Test\"\n",
        "            # Use test-data.\n",
        "            x = x_test\n",
        "            y_true = y_test\n",
        "\n",
        "\n",
        "        # End-index for the sequences.\n",
        "        end_idx = start_idx + length\n",
        "        # Select the sequences from the given start-index and\n",
        "        # of the given length.\n",
        "        x = x[start_idx:end_idx]\n",
        "        y_true = y_true[start_idx:end_idx]\n",
        "\n",
        "        # Input-signals for the model.\n",
        "        x = np.expand_dims(x, axis=0)\n",
        "        print(\"x shape\",x.shape)\n",
        "        # Use the model to predict the output-signals.\n",
        "        y_pred = model.predict(x)\n",
        "        print(\"y_pred shape\", y_pred.shape)\n",
        "        print(\"y_true\", y_true.shape)\n",
        "        print(\"y_pred\", y_pred.shape)\n",
        "        \n",
        "        for signal in range(len(target)):\n",
        "            # Get the output-signal predicted by the model.\n",
        "            signal_pred = y_pred[0, :, signal]\n",
        "            signal_pred = pd.DataFrame(signal_pred)\n",
        "            print(\"pred\", signal_pred.shape)\n",
        "\n",
        "            signal_true = y_true[target[signal]]\n",
        "            print(\"true\", signal_true.shape)\n",
        "\n",
        "            signal_pred.index = signal_true.index\n",
        "            gap = pd.DataFrame(abs(signal_pred[0] - signal_true))\n",
        "\n",
        "            print(\"AVERAGE GAP\", gap.mean())\n",
        "\n",
        "            signal_pred = pd.DataFrame(signal_pred[0])\n",
        "\n",
        "            print('<'+'-'*10, \"TRUE\", '-'*10 + '>')\n",
        "            fig = plt.subplots(figsize=(10,5))\n",
        "            plt.hist(signal_true, label=\"True\",bins=12, alpha=0.7)\n",
        "            plt.legend()\n",
        "            plt.show()\n",
        "            print(signal_true.describe())\n",
        "            print('<'+'-'*10, \"TRUE\", '-'*10 + '>')\n",
        "\n",
        "            print('<'+'-'*10, \"PREDICT\", '-'*10 + '>')            \n",
        "            fig = plt.subplots(figsize=(10,5))\n",
        "            plt.hist(signal_pred[0],  label=\"Predict\",bins=12, alpha=0.4)\n",
        "            plt.legend()\n",
        "            plt.show()\n",
        "\n",
        "            print(signal_pred[0].describe())\n",
        "            print('<'+'-'*10, \"PREDICT\", '-'*10 + '>')\n",
        "\n",
        "\n",
        "            "
      ],
      "execution_count": 0,
      "outputs": []
    },
    {
      "metadata": {
        "colab_type": "text",
        "id": "jomFecfY8GsJ"
      },
      "cell_type": "markdown",
      "source": [
        "## Attention with Multi Inputs\n"
      ]
    },
    {
      "metadata": {
        "id": "t-JBKhsOQ76r",
        "colab_type": "code",
        "outputId": "8c88b229-3e62-45dc-cae4-69c1de42bc36",
        "colab": {
          "base_uri": "https://localhost:8080/",
          "height": 391
        }
      },
      "cell_type": "code",
      "source": [
        "# from attention_utilimportport get_activations, get_data_recurrent\n",
        "from keras.layers import merge\n",
        "from keras.layers.core import *\n",
        "from keras.layers.recurrent import LSTM\n",
        "from keras.models import *\n",
        "from keras.layers import Input, Dense,multiply\n",
        "\n",
        "\n",
        "INPUT_DIM = num_x_signals\n",
        "TIME_STEPS = sequence_length #len(x_test) \n",
        "# if True, the attention vector is shared across the input_dimensions where the attention is applied.\n",
        "SINGLE_ATTENTION_VECTOR = False\n",
        "APPLY_ATTENTION_BEFORE_LSTM = True\n",
        "\n",
        "def attention_3d_block(inputs):\n",
        "    # inputs.shape = (batch_size, time_steps, input_dim)\n",
        "    input_dim = int(inputs.shape[2])\n",
        "    a = Permute((2, 1))(inputs)\n",
        "#         a = Reshape((inpuat_dim, TIME_STEPS))(a) # this line is not useful. It's just to know which dimension is what.\n",
        "    a = Dense(TIME_STEPS, activation='softmax')(a)\n",
        "    if SINGLE_ATTENTION_VECTOR:\n",
        "        a = Lambda(lambda x: K.mean(x, axis=1), name='dim_reduction')(a)\n",
        "        a = RepeatVector(input_dim)(a)\n",
        "    a_probs = Permute((2, 1), name='attention_vec')(a)\n",
        "    output_attention_mul = multiply([inputs, a_probs], name='attention_mul')\n",
        "    return output_attention_mul\n",
        "\n",
        "class Attention():\n",
        "  \n",
        "\n",
        "    def model_attention_applied_after_lstm():\n",
        "        inputs = Input(shape=(TIME_STEPS, num_x_signals,))\n",
        "        lstm_units = 512\n",
        "        lstm_out = LSTM(lstm_units, return_sequences=True)(inputs)\n",
        "        attention_mul = attention_3d_block(lstm_out)\n",
        "#         attention_mul = Flatten()(attention_mul)\n",
        "        output = Dense(num_y_signals, activation='relu')(attention_mul)\n",
        "        model = Model(inputs=[inputs], outputs=output)\n",
        "        return model\n",
        "    \n",
        "    def model_attention():\n",
        "        attention_mul = attention_3d_block(LSTM(units=512,\n",
        "            return_sequences=True,\n",
        "            input_shape=(None, num_x_signals,)))\n",
        "        model = Model(input=[inputs], output=output)\n",
        "        return model\n",
        "\n",
        "\n",
        "    def model_attention_applied_before_lstm():\n",
        "        inputs = Input(shape=(TIME_STEPS, num_x_signals,))\n",
        "        attention_mul = attention_3d_block(inputs)\n",
        "        lstm_units = 512\n",
        "        attention_mul = LSTM(lstm_units, return_sequences=False)(attention_mul)\n",
        "        output = Dense(num_y_signals, activation='sigmoid')(attention_mul)\n",
        "        model = Model(inputs=[inputs], outputs=output)\n",
        "        return model\n",
        "\n",
        "    \n",
        "# model_v4 = Sequential()\n",
        "# model_v4.add(LSTM(units=512,\n",
        "#             return_sequences=True,\n",
        "#             input_shape=(None, num_x_signals,)))\n",
        "\n",
        "# model_v4.add(Dropout(0.2))\n",
        "# model_v4.add(Attention.model_attention())\n",
        "# model_v4.add(Dense(num_y_signals, activation='relu'))\n",
        "model_v4 = Attention.model_attention_applied_after_lstm()\n",
        "\n",
        "model_v4.compile(loss='mean_squared_error', optimizer='adam', metrics=['mean_squared_error', 'mean_absolute_error', 'mean_absolute_percentage_error', 'cosine_proximity','msle'])\n",
        "model_v4.summary()"
      ],
      "execution_count": 0,
      "outputs": [
        {
          "output_type": "stream",
          "text": [
            "__________________________________________________________________________________________________\n",
            "Layer (type)                    Output Shape         Param #     Connected to                     \n",
            "==================================================================================================\n",
            "input_2 (InputLayer)            (None, 1680, 2)      0                                            \n",
            "__________________________________________________________________________________________________\n",
            "lstm_2 (LSTM)                   (None, 1680, 512)    1054720     input_2[0][0]                    \n",
            "__________________________________________________________________________________________________\n",
            "permute_2 (Permute)             (None, 512, 1680)    0           lstm_2[0][0]                     \n",
            "__________________________________________________________________________________________________\n",
            "dense_3 (Dense)                 (None, 512, 1680)    2824080     permute_2[0][0]                  \n",
            "__________________________________________________________________________________________________\n",
            "attention_vec (Permute)         (None, 1680, 512)    0           dense_3[0][0]                    \n",
            "__________________________________________________________________________________________________\n",
            "attention_mul (Multiply)        (None, 1680, 512)    0           lstm_2[0][0]                     \n",
            "                                                                 attention_vec[0][0]              \n",
            "__________________________________________________________________________________________________\n",
            "dense_4 (Dense)                 (None, 1680, 1)      513         attention_mul[0][0]              \n",
            "==================================================================================================\n",
            "Total params: 3,879,313\n",
            "Trainable params: 3,879,313\n",
            "Non-trainable params: 0\n",
            "__________________________________________________________________________________________________\n"
          ],
          "name": "stdout"
        }
      ]
    },
    {
      "metadata": {
        "colab_type": "code",
        "id": "agCjk0GyfILb",
        "outputId": "25f05c05-f08c-4b4b-cec7-7550290dd0bb",
        "colab": {
          "base_uri": "https://localhost:8080/",
          "height": 51
        }
      },
      "cell_type": "code",
      "source": [
        "## Check the batch size\n",
        "x_batch, y_batch = next(generator)\n",
        "print(\"x_batch shape\", x_batch.shape)\n",
        "print(\"y_batch shape\", y_batch.shape)"
      ],
      "execution_count": 0,
      "outputs": [
        {
          "output_type": "stream",
          "text": [
            "x_batch shape (100, 1680, 2)\n",
            "y_batch shape (100, 1680, 1)\n"
          ],
          "name": "stdout"
        }
      ]
    },
    {
      "metadata": {
        "colab_type": "code",
        "id": "pOwzbtNnxaaw",
        "outputId": "8ffc4133-f475-40c6-85df-b15930c04478",
        "colab": {
          "base_uri": "https://localhost:8080/",
          "height": 68
        }
      },
      "cell_type": "code",
      "source": [
        "## Validation Set\n",
        "\n",
        "callbacks =  checkpoint_callback(\"Attention\")\n",
        "\n",
        "%time\n",
        "start = time.time()\n",
        "history_v4 = model_v4.fit_generator(generator=generator,\n",
        "                  epochs=5000,\n",
        "                  steps_per_epoch=1,\n",
        "                  validation_data=[x_batch, y_batch],\n",
        "                  callbacks=callbacks,verbose=1)\n",
        "\n",
        "elapsed_time = time.time() - start\n",
        "print (\"elapsed_time:{0}\".format(elapsed_time) + \"[sec]\")"
      ],
      "execution_count": 0,
      "outputs": [
        {
          "output_type": "stream",
          "text": [
            "CPU times: user 4 µs, sys: 0 ns, total: 4 µs\n",
            "Wall time: 9.3 µs\n",
            "Epoch 1/5000\n"
          ],
          "name": "stdout"
        }
      ]
    },
    {
      "metadata": {
        "colab_type": "code",
        "id": "-ZVBl4bvziHV",
        "outputId": "9e040028-fea5-40d6-f0b2-8b525b9440af",
        "colab": {
          "base_uri": "https://localhost:8080/",
          "height": 236
        }
      },
      "cell_type": "code",
      "source": [
        "\n",
        "lossPlot(history_v4)\n",
        "print(history_v4.history)\n",
        "# aaccuracyPlot(history_v1)\n",
        "# print(len(history_v1.history['val_mean_absolute_percentage_error']))\n",
        "print(\"MAPE\", history_v4.history['val_mean_absolute_percentage_error'][len(history_v4.history['val_mean_absolute_percentage_error'])-1])\n",
        "print(\"MSE\", history_v4.history['val_mean_squared_error'][len(history_v4.history['val_mean_squared_error'])-1])"
      ],
      "execution_count": 0,
      "outputs": [
        {
          "output_type": "error",
          "ename": "NameError",
          "evalue": "ignored",
          "traceback": [
            "\u001b[0;31m---------------------------------------------------------------------------\u001b[0m",
            "\u001b[0;31mNameError\u001b[0m                                 Traceback (most recent call last)",
            "\u001b[0;32m<ipython-input-5-1cddab22d72e>\u001b[0m in \u001b[0;36m<module>\u001b[0;34m()\u001b[0m\n\u001b[1;32m      1\u001b[0m \u001b[0;34m\u001b[0m\u001b[0m\n\u001b[0;32m----> 2\u001b[0;31m \u001b[0mlossPlot\u001b[0m\u001b[0;34m(\u001b[0m\u001b[0mhistory_v4\u001b[0m\u001b[0;34m)\u001b[0m\u001b[0;34m\u001b[0m\u001b[0;34m\u001b[0m\u001b[0m\n\u001b[0m\u001b[1;32m      3\u001b[0m \u001b[0mprint\u001b[0m\u001b[0;34m(\u001b[0m\u001b[0mhistory_v4\u001b[0m\u001b[0;34m.\u001b[0m\u001b[0mhistory\u001b[0m\u001b[0;34m)\u001b[0m\u001b[0;34m\u001b[0m\u001b[0;34m\u001b[0m\u001b[0m\n\u001b[1;32m      4\u001b[0m \u001b[0;31m# aaccuracyPlot(history_v1)\u001b[0m\u001b[0;34m\u001b[0m\u001b[0;34m\u001b[0m\u001b[0;34m\u001b[0m\u001b[0m\n\u001b[1;32m      5\u001b[0m \u001b[0;31m# print(len(history_v1.history['val_mean_absolute_percentage_error']))\u001b[0m\u001b[0;34m\u001b[0m\u001b[0;34m\u001b[0m\u001b[0;34m\u001b[0m\u001b[0m\n",
            "\u001b[0;31mNameError\u001b[0m: name 'history_v4' is not defined"
          ]
        }
      ]
    },
    {
      "metadata": {
        "colab_type": "code",
        "id": "8d3eN0ugfILw",
        "colab": {}
      },
      "cell_type": "code",
      "source": [
        "class Plot():\n",
        "  \n",
        "    def plot_comparison(model, start_idx, length, train):\n",
        "        if train:\n",
        "            # Use training-data.\n",
        "            condition = \"Train\"\n",
        "            x = x_train\n",
        "            y_true = y_train\n",
        "        else:\n",
        "            condition = \"Test\"\n",
        "            # Use test-data.\n",
        "            x = x_test\n",
        "            y_true = y_test\n",
        "\n",
        "\n",
        "        # End-index for the sequences.\n",
        "        end_idx = start_idx + length\n",
        "        # Select the sequences from the given start-index and\n",
        "        # of the given length.\n",
        "        x = x[start_idx:end_idx]\n",
        "        y_true = y_true[start_idx:end_idx]\n",
        "        print(\"x\",x.shape)\n",
        "        # Input-signals for the model.\n",
        "        x = np.expand_dims(x, axis=0)\n",
        "        print(\"x\",x.shape)\n",
        "        # Use the model to predict the output-signals.\n",
        "        y_pred = model.predict(x)\n",
        "        #print(y_pred)\n",
        "#         print(\"y_pred\", y_pred[:2])\n",
        "        print('<'+'-'*10, condition, '-'*10 + '>')\n",
        "        print(\"y_true\", y_true.shape)\n",
        "        print(\"y_pred\", y_pred.shape)\n",
        "        \n",
        "        for signal in range(len(target)):\n",
        "            # Get the output-signal predicted by the model.\n",
        "            signal_pred = y_pred[0, :, signal]\n",
        "            signal_pred = pd.DataFrame(signal_pred)\n",
        "            print(\"pred\", signal_pred.shape)\n",
        "\n",
        "            signal_true = y_true[target[signal]]\n",
        "            print(\"true\", signal_true.shape)\n",
        "\n",
        "            signal_pred.index = signal_true.index\n",
        "            gap = pd.DataFrame(abs(signal_pred[0] - signal_true))\n",
        "\n",
        "            print('<'+'-'*10, condition, '-'*10 + '>')\n",
        "            print(\"AVERAGE GAP\", gap.mean())\n",
        "            # Export the result as Excel File\n",
        "#             import openpyxl\n",
        "#             dfResult.to_excel('./result.xlsx')\n",
        "#             dfResult.describe().to_excel('./describe.xlsx')\n",
        "            signal_pred = pd.DataFrame(signal_pred[0])\n",
        "            fig = plt.subplots(figsize=(10,5))\n",
        "            plt.hist(signal_true, label=\"True\",bins=12, alpha=0.7)\n",
        "            print('<'+'-'*10, \"TRUE\", '-'*10 + '>')\n",
        "            print(signal_true.describe())\n",
        "\n",
        "            plt.hist(signal_pred[0],  label=\"Predict\",bins=12, alpha=0.4)\n",
        "            print('<'+'-'*10, \"PREDICT\", '-'*10 + '>')\n",
        "            print(signal_pred[0].describe())\n",
        "\n",
        "\n",
        "\n",
        "            # Plot labels etc.\n",
        "            plt.suptitle(\"{}_{}\".format(target[signal], condition))\n",
        "            plt.legend()\n",
        "            plt.ylabel(target[signal])\n",
        "            plt.show()"
      ],
      "execution_count": 0,
      "outputs": []
    },
    {
      "metadata": {
        "colab_type": "code",
        "id": "Fs40AAi5fIL4",
        "outputId": "e3c7d080-ebb7-43b1-9662-91bb56c94948",
        "colab": {
          "base_uri": "https://localhost:8080/",
          "height": 3197
        }
      },
      "cell_type": "code",
      "source": [
        "# Short and Long Term Prediction in 2016\n",
        "# Plot.plot_comparison(model_v4, start_idx=2, length=114, train=False)\n",
        "Plot.plot_comparison(model_v4, start_idx=2, length=1344, train=True)"
      ],
      "execution_count": 0,
      "outputs": [
        {
          "output_type": "stream",
          "text": [
            "x (1344, 8)\n",
            "x (1, 1344, 8)\n",
            "<---------- Train ---------->\n",
            "y_true (1344, 4)\n",
            "y_pred (1, 1344, 4)\n",
            "pred (1344, 1)\n",
            "true (1344,)\n",
            "<---------- Train ---------->\n",
            "AVERAGE GAP 0    0.138963\n",
            "dtype: float64\n",
            "<---------- TRUE ---------->\n",
            "count    1344.000000\n",
            "mean        0.296450\n",
            "std         0.169198\n",
            "min         0.004287\n",
            "25%         0.149594\n",
            "50%         0.291953\n",
            "75%         0.444423\n",
            "max         0.591361\n",
            "Name: t, dtype: float64\n",
            "<---------- PREDICT ---------->\n",
            "count    1344.000000\n",
            "mean        0.392265\n",
            "std         0.035993\n",
            "min         0.298666\n",
            "25%         0.363383\n",
            "50%         0.390408\n",
            "75%         0.430876\n",
            "max         0.430940\n",
            "Name: 0, dtype: float64\n"
          ],
          "name": "stdout"
        },
        {
          "output_type": "display_data",
          "data": {
            "image/png": "[encoded data removed]",
            "text/plain": [
              "<Figure size 720x360 with 1 Axes>"
            ]
          },
          "metadata": {
            "tags": []
          }
        },
        {
          "output_type": "stream",
          "text": [
            "pred (1344, 1)\n",
            "true (1344,)\n",
            "<---------- Train ---------->\n",
            "AVERAGE GAP 0    0.208177\n",
            "dtype: float64\n",
            "<---------- TRUE ---------->\n",
            "count    1344.000000\n",
            "mean        0.508715\n",
            "std         0.221070\n",
            "min         0.000000\n",
            "25%         0.322786\n",
            "50%         0.598182\n",
            "75%         0.691701\n",
            "max         1.000000\n",
            "Name: ∆w_s, dtype: float64\n",
            "<---------- PREDICT ---------->\n",
            "count    1344.000000\n",
            "mean        0.404053\n",
            "std         0.026255\n",
            "min         0.336917\n",
            "25%         0.383075\n",
            "50%         0.402109\n",
            "75%         0.432267\n",
            "max         0.432313\n",
            "Name: 0, dtype: float64\n"
          ],
          "name": "stdout"
        },
        {
          "output_type": "display_data",
          "data": {
            "image/png": "[encoded data removed]",
            "text/plain": [
              "<Figure size 720x360 with 1 Axes>"
            ]
          },
          "metadata": {
            "tags": []
          }
        },
        {
          "output_type": "stream",
          "text": [
            "pred (1344, 1)\n",
            "true (1344,)\n",
            "<---------- Train ---------->\n",
            "AVERAGE GAP 0    0.283307\n",
            "dtype: float64\n",
            "<---------- TRUE ---------->\n",
            "count    1344.000000\n",
            "mean        0.084207\n",
            "std         0.086777\n",
            "min         0.000000\n",
            "25%         0.037037\n",
            "50%         0.057870\n",
            "75%         0.094907\n",
            "max         1.000000\n",
            "Name: ∆t, dtype: float64\n",
            "<---------- PREDICT ---------->\n",
            "count    1344.000000\n",
            "mean        0.361505\n",
            "std         0.037373\n",
            "min         0.266580\n",
            "25%         0.331360\n",
            "50%         0.359004\n",
            "75%         0.401776\n",
            "max         0.401844\n",
            "Name: 0, dtype: float64\n"
          ],
          "name": "stdout"
        },
        {
          "output_type": "display_data",
          "data": {
            "image/png": "[encoded data removed]",
            "text/plain": [
              "<Figure size 720x360 with 1 Axes>"
            ]
          },
          "metadata": {
            "tags": []
          }
        },
        {
          "output_type": "stream",
          "text": [
            "pred (1344, 1)\n",
            "true (1344,)\n",
            "<---------- Train ---------->\n",
            "AVERAGE GAP 0    0.195697\n",
            "dtype: float64\n",
            "<---------- TRUE ---------->\n",
            "count    1344.000000\n",
            "mean        0.514396\n",
            "std         0.207007\n",
            "min         0.000000\n",
            "25%         0.339446\n",
            "50%         0.547654\n",
            "75%         0.690676\n",
            "max         1.000000\n",
            "Name: θ(∆w_s), dtype: float64\n",
            "<---------- PREDICT ---------->\n",
            "count    1344.000000\n",
            "mean        0.405502\n",
            "std         0.025970\n",
            "min         0.338957\n",
            "25%         0.384780\n",
            "50%         0.403626\n",
            "75%         0.433406\n",
            "max         0.433451\n",
            "Name: 0, dtype: float64\n"
          ],
          "name": "stdout"
        },
        {
          "output_type": "display_data",
          "data": {
            "image/png": "[encoded data removed]",
            "text/plain": [
              "<Figure size 720x360 with 1 Axes>"
            ]
          },
          "metadata": {
            "tags": []
          }
        }
      ]
    },
    {
      "metadata": {
        "id": "Y0FjJMVAWCX3",
        "colab_type": "code",
        "outputId": "526fe71a-8722-4533-8a41-796820a96ede",
        "colab": {
          "base_uri": "https://localhost:8080/",
          "height": 749
        }
      },
      "cell_type": "code",
      "source": [
        "# Short and Long Term Prediction in 2016\n",
        "plot_prediction(true, model_v4, start_month=1, end_month=1)\n",
        "plot_prediction(true, model_v4, start_month=1, end_month=3)\n",
        "plot_prediction(true, model_v4, start_month=1, end_month=6)\n",
        "plot_prediction(true, model_v4, start_month=1, end_month=12)"
      ],
      "execution_count": 0,
      "outputs": [
        {
          "output_type": "stream",
          "text": [
            "(744, 2)\n",
            "true_expand (1, 744, 2)\n"
          ],
          "name": "stdout"
        },
        {
          "output_type": "error",
          "ename": "ValueError",
          "evalue": "ignored",
          "traceback": [
            "\u001b[0;31m---------------------------------------------------------------------------\u001b[0m",
            "\u001b[0;31mValueError\u001b[0m                                Traceback (most recent call last)",
            "\u001b[0;32m<ipython-input-63-4c3e10fc3124>\u001b[0m in \u001b[0;36m<module>\u001b[0;34m()\u001b[0m\n\u001b[0;32m----> 1\u001b[0;31m \u001b[0mplot_prediction\u001b[0m\u001b[0;34m(\u001b[0m\u001b[0mtrue\u001b[0m\u001b[0;34m,\u001b[0m \u001b[0mmodel_v4\u001b[0m\u001b[0;34m,\u001b[0m \u001b[0mstart_month\u001b[0m\u001b[0;34m=\u001b[0m\u001b[0;36m1\u001b[0m\u001b[0;34m,\u001b[0m \u001b[0mend_month\u001b[0m\u001b[0;34m=\u001b[0m\u001b[0;36m1\u001b[0m\u001b[0;34m)\u001b[0m\u001b[0;34m\u001b[0m\u001b[0;34m\u001b[0m\u001b[0m\n\u001b[0m\u001b[1;32m      2\u001b[0m \u001b[0mplot_prediction\u001b[0m\u001b[0;34m(\u001b[0m\u001b[0mtrue\u001b[0m\u001b[0;34m,\u001b[0m \u001b[0mmodel_v4\u001b[0m\u001b[0;34m,\u001b[0m \u001b[0mstart_month\u001b[0m\u001b[0;34m=\u001b[0m\u001b[0;36m1\u001b[0m\u001b[0;34m,\u001b[0m \u001b[0mend_month\u001b[0m\u001b[0;34m=\u001b[0m\u001b[0;36m3\u001b[0m\u001b[0;34m)\u001b[0m\u001b[0;34m\u001b[0m\u001b[0;34m\u001b[0m\u001b[0m\n\u001b[1;32m      3\u001b[0m \u001b[0mplot_prediction\u001b[0m\u001b[0;34m(\u001b[0m\u001b[0mtrue\u001b[0m\u001b[0;34m,\u001b[0m \u001b[0mmodel_v4\u001b[0m\u001b[0;34m,\u001b[0m \u001b[0mstart_month\u001b[0m\u001b[0;34m=\u001b[0m\u001b[0;36m1\u001b[0m\u001b[0;34m,\u001b[0m \u001b[0mend_month\u001b[0m\u001b[0;34m=\u001b[0m\u001b[0;36m6\u001b[0m\u001b[0;34m)\u001b[0m\u001b[0;34m\u001b[0m\u001b[0;34m\u001b[0m\u001b[0m\n\u001b[1;32m      4\u001b[0m \u001b[0mplot_prediction\u001b[0m\u001b[0;34m(\u001b[0m\u001b[0mtrue\u001b[0m\u001b[0;34m,\u001b[0m \u001b[0mmodel_v4\u001b[0m\u001b[0;34m,\u001b[0m \u001b[0mstart_month\u001b[0m\u001b[0;34m=\u001b[0m\u001b[0;36m1\u001b[0m\u001b[0;34m,\u001b[0m \u001b[0mend_month\u001b[0m\u001b[0;34m=\u001b[0m\u001b[0;36m12\u001b[0m\u001b[0;34m)\u001b[0m\u001b[0;34m\u001b[0m\u001b[0;34m\u001b[0m\u001b[0m\n",
            "\u001b[0;32m<ipython-input-40-14713b26cddd>\u001b[0m in \u001b[0;36mplot_prediction\u001b[0;34m(data, model, start_month, end_month)\u001b[0m\n\u001b[1;32m     22\u001b[0m         \u001b[0mprint\u001b[0m\u001b[0;34m(\u001b[0m\u001b[0;34m\"true_expand\"\u001b[0m\u001b[0;34m,\u001b[0m \u001b[0mtrue_expand\u001b[0m\u001b[0;34m.\u001b[0m\u001b[0mshape\u001b[0m\u001b[0;34m)\u001b[0m\u001b[0;34m\u001b[0m\u001b[0;34m\u001b[0m\u001b[0m\n\u001b[1;32m     23\u001b[0m         \u001b[0;31m# Use the model to predict the output-signals.\u001b[0m\u001b[0;34m\u001b[0m\u001b[0;34m\u001b[0m\u001b[0;34m\u001b[0m\u001b[0m\n\u001b[0;32m---> 24\u001b[0;31m         \u001b[0mpred\u001b[0m \u001b[0;34m=\u001b[0m \u001b[0mmodel\u001b[0m\u001b[0;34m.\u001b[0m\u001b[0mpredict\u001b[0m\u001b[0;34m(\u001b[0m\u001b[0mtrue_expand\u001b[0m\u001b[0;34m)\u001b[0m\u001b[0;34m\u001b[0m\u001b[0;34m\u001b[0m\u001b[0m\n\u001b[0m\u001b[1;32m     25\u001b[0m         \u001b[0mprint\u001b[0m\u001b[0;34m(\u001b[0m\u001b[0;34m\"pred shape\"\u001b[0m\u001b[0;34m,\u001b[0m \u001b[0mpred\u001b[0m\u001b[0;34m.\u001b[0m\u001b[0mshape\u001b[0m\u001b[0;34m)\u001b[0m\u001b[0;34m\u001b[0m\u001b[0;34m\u001b[0m\u001b[0m\n\u001b[1;32m     26\u001b[0m         \u001b[0;32mfor\u001b[0m \u001b[0msignal\u001b[0m \u001b[0;32min\u001b[0m \u001b[0mrange\u001b[0m\u001b[0;34m(\u001b[0m\u001b[0mlen\u001b[0m\u001b[0;34m(\u001b[0m\u001b[0mtarget\u001b[0m\u001b[0;34m)\u001b[0m\u001b[0;34m)\u001b[0m\u001b[0;34m:\u001b[0m\u001b[0;34m\u001b[0m\u001b[0;34m\u001b[0m\u001b[0m\n",
            "\u001b[0;32m/usr/local/lib/python3.6/dist-packages/keras/engine/training.py\u001b[0m in \u001b[0;36mpredict\u001b[0;34m(self, x, batch_size, verbose, steps)\u001b[0m\n\u001b[1;32m   1147\u001b[0m                              'argument.')\n\u001b[1;32m   1148\u001b[0m         \u001b[0;31m# Validate user data.\u001b[0m\u001b[0;34m\u001b[0m\u001b[0;34m\u001b[0m\u001b[0;34m\u001b[0m\u001b[0m\n\u001b[0;32m-> 1149\u001b[0;31m         \u001b[0mx\u001b[0m\u001b[0;34m,\u001b[0m \u001b[0m_\u001b[0m\u001b[0;34m,\u001b[0m \u001b[0m_\u001b[0m \u001b[0;34m=\u001b[0m \u001b[0mself\u001b[0m\u001b[0;34m.\u001b[0m\u001b[0m_standardize_user_data\u001b[0m\u001b[0;34m(\u001b[0m\u001b[0mx\u001b[0m\u001b[0;34m)\u001b[0m\u001b[0;34m\u001b[0m\u001b[0;34m\u001b[0m\u001b[0m\n\u001b[0m\u001b[1;32m   1150\u001b[0m         \u001b[0;32mif\u001b[0m \u001b[0mself\u001b[0m\u001b[0;34m.\u001b[0m\u001b[0mstateful\u001b[0m\u001b[0;34m:\u001b[0m\u001b[0;34m\u001b[0m\u001b[0;34m\u001b[0m\u001b[0m\n\u001b[1;32m   1151\u001b[0m             \u001b[0;32mif\u001b[0m \u001b[0mx\u001b[0m\u001b[0;34m[\u001b[0m\u001b[0;36m0\u001b[0m\u001b[0;34m]\u001b[0m\u001b[0;34m.\u001b[0m\u001b[0mshape\u001b[0m\u001b[0;34m[\u001b[0m\u001b[0;36m0\u001b[0m\u001b[0;34m]\u001b[0m \u001b[0;34m>\u001b[0m \u001b[0mbatch_size\u001b[0m \u001b[0;32mand\u001b[0m \u001b[0mx\u001b[0m\u001b[0;34m[\u001b[0m\u001b[0;36m0\u001b[0m\u001b[0;34m]\u001b[0m\u001b[0;34m.\u001b[0m\u001b[0mshape\u001b[0m\u001b[0;34m[\u001b[0m\u001b[0;36m0\u001b[0m\u001b[0;34m]\u001b[0m \u001b[0;34m%\u001b[0m \u001b[0mbatch_size\u001b[0m \u001b[0;34m!=\u001b[0m \u001b[0;36m0\u001b[0m\u001b[0;34m:\u001b[0m\u001b[0;34m\u001b[0m\u001b[0;34m\u001b[0m\u001b[0m\n",
            "\u001b[0;32m/usr/local/lib/python3.6/dist-packages/keras/engine/training.py\u001b[0m in \u001b[0;36m_standardize_user_data\u001b[0;34m(self, x, y, sample_weight, class_weight, check_array_lengths, batch_size)\u001b[0m\n\u001b[1;32m    749\u001b[0m             \u001b[0mfeed_input_shapes\u001b[0m\u001b[0;34m,\u001b[0m\u001b[0;34m\u001b[0m\u001b[0;34m\u001b[0m\u001b[0m\n\u001b[1;32m    750\u001b[0m             \u001b[0mcheck_batch_axis\u001b[0m\u001b[0;34m=\u001b[0m\u001b[0;32mFalse\u001b[0m\u001b[0;34m,\u001b[0m  \u001b[0;31m# Don't enforce the batch size.\u001b[0m\u001b[0;34m\u001b[0m\u001b[0;34m\u001b[0m\u001b[0m\n\u001b[0;32m--> 751\u001b[0;31m             exception_prefix='input')\n\u001b[0m\u001b[1;32m    752\u001b[0m \u001b[0;34m\u001b[0m\u001b[0m\n\u001b[1;32m    753\u001b[0m         \u001b[0;32mif\u001b[0m \u001b[0my\u001b[0m \u001b[0;32mis\u001b[0m \u001b[0;32mnot\u001b[0m \u001b[0;32mNone\u001b[0m\u001b[0;34m:\u001b[0m\u001b[0;34m\u001b[0m\u001b[0;34m\u001b[0m\u001b[0m\n",
            "\u001b[0;32m/usr/local/lib/python3.6/dist-packages/keras/engine/training_utils.py\u001b[0m in \u001b[0;36mstandardize_input_data\u001b[0;34m(data, names, shapes, check_batch_axis, exception_prefix)\u001b[0m\n\u001b[1;32m    136\u001b[0m                             \u001b[0;34m': expected '\u001b[0m \u001b[0;34m+\u001b[0m \u001b[0mnames\u001b[0m\u001b[0;34m[\u001b[0m\u001b[0mi\u001b[0m\u001b[0;34m]\u001b[0m \u001b[0;34m+\u001b[0m \u001b[0;34m' to have shape '\u001b[0m \u001b[0;34m+\u001b[0m\u001b[0;34m\u001b[0m\u001b[0;34m\u001b[0m\u001b[0m\n\u001b[1;32m    137\u001b[0m                             \u001b[0mstr\u001b[0m\u001b[0;34m(\u001b[0m\u001b[0mshape\u001b[0m\u001b[0;34m)\u001b[0m \u001b[0;34m+\u001b[0m \u001b[0;34m' but got array with shape '\u001b[0m \u001b[0;34m+\u001b[0m\u001b[0;34m\u001b[0m\u001b[0;34m\u001b[0m\u001b[0m\n\u001b[0;32m--> 138\u001b[0;31m                             str(data_shape))\n\u001b[0m\u001b[1;32m    139\u001b[0m     \u001b[0;32mreturn\u001b[0m \u001b[0mdata\u001b[0m\u001b[0;34m\u001b[0m\u001b[0;34m\u001b[0m\u001b[0m\n\u001b[1;32m    140\u001b[0m \u001b[0;34m\u001b[0m\u001b[0m\n",
            "\u001b[0;31mValueError\u001b[0m: Error when checking input: expected input_1 to have shape (168, 2) but got array with shape (744, 2)"
          ]
        }
      ]
    },
    {
      "metadata": {
        "colab_type": "code",
        "id": "73wNrmNvHQbF",
        "colab": {}
      },
      "cell_type": "code",
      "source": [
        ""
      ],
      "execution_count": 0,
      "outputs": []
    },
    {
      "metadata": {
        "colab_type": "code",
        "id": "GB09jJfUny1v",
        "outputId": "26836152-d865-46cb-deca-6101c2a770e7",
        "colab": {
          "base_uri": "https://localhost:8080/",
          "height": 8542
        }
      },
      "cell_type": "code",
      "source": [
        "Plot.plot_comparison(model_v1, start_idx=1, length=2000, train=True)\n",
        "Plot.plot_comparison(model_v1, start_idx=1, length=120, train=False)"
      ],
      "execution_count": 0,
      "outputs": [
        {
          "output_type": "stream",
          "text": [
            "x shape (1, 2000, 8)\n",
            "y_pred shape (1, 2000, 4)\n",
            "y_true (2000, 4)\n",
            "y_pred (1, 2000, 4)\n",
            "pred (2000, 1)\n",
            "true (2000,)\n",
            "AVERAGE GAP 0    0.004759\n",
            "dtype: float64\n",
            "<---------- TRUE ---------->\n"
          ],
          "name": "stdout"
        },
        {
          "output_type": "display_data",
          "data": {
            "image/png": "[encoded data removed]",
            "text/plain": [
              "<Figure size 720x360 with 1 Axes>"
            ]
          },
          "metadata": {
            "tags": []
          }
        },
        {
          "output_type": "stream",
          "text": [
            "count    2000.000000\n",
            "mean        0.439865\n",
            "std         0.252745\n",
            "min         0.003640\n",
            "25%         0.218665\n",
            "50%         0.438910\n",
            "75%         0.660659\n",
            "max         0.879419\n",
            "Name: t, dtype: float64\n",
            "<---------- TRUE ---------->\n",
            "<---------- PREDICT ---------->\n"
          ],
          "name": "stdout"
        },
        {
          "output_type": "display_data",
          "data": {
            "image/png": "[encoded data removed]",
            "text/plain": [
              "<Figure size 720x360 with 1 Axes>"
            ]
          },
          "metadata": {
            "tags": []
          }
        },
        {
          "output_type": "stream",
          "text": [
            "count    2000.000000\n",
            "mean        0.440294\n",
            "std         0.251498\n",
            "min         0.000000\n",
            "25%         0.220156\n",
            "50%         0.441197\n",
            "75%         0.660371\n",
            "max         0.890450\n",
            "Name: 0, dtype: float64\n",
            "<---------- PREDICT ---------->\n",
            "pred (2000, 1)\n",
            "true (2000,)\n",
            "AVERAGE GAP 0    0.017166\n",
            "dtype: float64\n",
            "<---------- TRUE ---------->\n"
          ],
          "name": "stdout"
        },
        {
          "output_type": "display_data",
          "data": {
            "image/png": "[encoded data removed]",
            "text/plain": [
              "<Figure size 720x360 with 1 Axes>"
            ]
          },
          "metadata": {
            "tags": []
          }
        },
        {
          "output_type": "stream",
          "text": [
            "count    2000.000000\n",
            "mean        0.507673\n",
            "std         0.223518\n",
            "min         0.000000\n",
            "25%         0.319424\n",
            "50%         0.596158\n",
            "75%         0.694512\n",
            "max         1.000000\n",
            "Name: ∆w_s, dtype: float64\n",
            "<---------- TRUE ---------->\n",
            "<---------- PREDICT ---------->\n"
          ],
          "name": "stdout"
        },
        {
          "output_type": "display_data",
          "data": {
            "image/png": "[encoded data removed]",
            "text/plain": [
              "<Figure size 720x360 with 1 Axes>"
            ]
          },
          "metadata": {
            "tags": []
          }
        },
        {
          "output_type": "stream",
          "text": [
            "count    2000.000000\n",
            "mean        0.508378\n",
            "std         0.221141\n",
            "min         0.014095\n",
            "25%         0.316842\n",
            "50%         0.597596\n",
            "75%         0.699539\n",
            "max         0.991215\n",
            "Name: 0, dtype: float64\n",
            "<---------- PREDICT ---------->\n",
            "pred (2000, 1)\n",
            "true (2000,)\n",
            "AVERAGE GAP 0    0.004286\n",
            "dtype: float64\n",
            "<---------- TRUE ---------->\n"
          ],
          "name": "stdout"
        },
        {
          "output_type": "display_data",
          "data": {
            "image/png": "[encoded data removed]",
            "text/plain": [
              "<Figure size 720x360 with 1 Axes>"
            ]
          },
          "metadata": {
            "tags": []
          }
        },
        {
          "output_type": "stream",
          "text": [
            "count    2000.000000\n",
            "mean        0.085851\n",
            "std         0.091157\n",
            "min         0.000000\n",
            "25%         0.037037\n",
            "50%         0.057870\n",
            "75%         0.097222\n",
            "max         1.000000\n",
            "Name: ∆t, dtype: float64\n",
            "<---------- TRUE ---------->\n",
            "<---------- PREDICT ---------->\n"
          ],
          "name": "stdout"
        },
        {
          "output_type": "display_data",
          "data": {
            "image/png": "[encoded data removed]",
            "text/plain": [
              "<Figure size 720x360 with 1 Axes>"
            ]
          },
          "metadata": {
            "tags": []
          }
        },
        {
          "output_type": "stream",
          "text": [
            "count    2000.000000\n",
            "mean        0.084650\n",
            "std         0.088710\n",
            "min         0.000000\n",
            "25%         0.036882\n",
            "50%         0.057878\n",
            "75%         0.094266\n",
            "max         0.954391\n",
            "Name: 0, dtype: float64\n",
            "<---------- PREDICT ---------->\n",
            "pred (2000, 1)\n",
            "true (2000,)\n",
            "AVERAGE GAP 0    0.035741\n",
            "dtype: float64\n",
            "<---------- TRUE ---------->\n"
          ],
          "name": "stdout"
        },
        {
          "output_type": "display_data",
          "data": {
            "image/png": "[encoded data removed]",
            "text/plain": [
              "<Figure size 720x360 with 1 Axes>"
            ]
          },
          "metadata": {
            "tags": []
          }
        },
        {
          "output_type": "stream",
          "text": [
            "count    2000.000000\n",
            "mean        0.514209\n",
            "std         0.207245\n",
            "min         0.000000\n",
            "25%         0.338397\n",
            "50%         0.529834\n",
            "75%         0.693288\n",
            "max         1.000000\n",
            "Name: θ(∆w_s), dtype: float64\n",
            "<---------- TRUE ---------->\n",
            "<---------- PREDICT ---------->\n"
          ],
          "name": "stdout"
        },
        {
          "output_type": "display_data",
          "data": {
            "image/png": "[encoded data removed]",
            "text/plain": [
              "<Figure size 720x360 with 1 Axes>"
            ]
          },
          "metadata": {
            "tags": []
          }
        },
        {
          "output_type": "stream",
          "text": [
            "count    2000.000000\n",
            "mean        0.507951\n",
            "std         0.197671\n",
            "min         0.047220\n",
            "25%         0.335896\n",
            "50%         0.568306\n",
            "75%         0.680094\n",
            "max         0.958364\n",
            "Name: 0, dtype: float64\n",
            "<---------- PREDICT ---------->\n",
            "x shape (1, 113, 8)\n",
            "y_pred shape (1, 113, 4)\n",
            "y_true (113, 4)\n",
            "y_pred (1, 113, 4)\n",
            "pred (113, 1)\n",
            "true (113,)\n",
            "AVERAGE GAP 0    0.013281\n",
            "dtype: float64\n",
            "<---------- TRUE ---------->\n"
          ],
          "name": "stdout"
        },
        {
          "output_type": "display_data",
          "data": {
            "image/png": "[encoded data removed]",
            "text/plain": [
              "<Figure size 720x360 with 1 Axes>"
            ]
          },
          "metadata": {
            "tags": []
          }
        },
        {
          "output_type": "stream",
          "text": [
            "count    113.000000\n",
            "mean       0.974967\n",
            "std        0.015763\n",
            "min        0.949617\n",
            "25%        0.961664\n",
            "50%        0.973445\n",
            "75%        0.990534\n",
            "max        1.000000\n",
            "Name: t, dtype: float64\n",
            "<---------- TRUE ---------->\n",
            "<---------- PREDICT ---------->\n"
          ],
          "name": "stdout"
        },
        {
          "output_type": "display_data",
          "data": {
            "image/png": "[encoded data removed]",
            "text/plain": [
              "<Figure size 720x360 with 1 Axes>"
            ]
          },
          "metadata": {
            "tags": []
          }
        },
        {
          "output_type": "stream",
          "text": [
            "count    113.000000\n",
            "mean       0.964202\n",
            "std        0.053838\n",
            "min        0.463113\n",
            "25%        0.957505\n",
            "50%        0.971653\n",
            "75%        0.983013\n",
            "max        1.002852\n",
            "Name: 0, dtype: float64\n",
            "<---------- PREDICT ---------->\n",
            "pred (113, 1)\n",
            "true (113,)\n",
            "AVERAGE GAP 0    0.017291\n",
            "dtype: float64\n",
            "<---------- TRUE ---------->\n"
          ],
          "name": "stdout"
        },
        {
          "output_type": "display_data",
          "data": {
            "image/png": "[encoded data removed]",
            "text/plain": [
              "<Figure size 720x360 with 1 Axes>"
            ]
          },
          "metadata": {
            "tags": []
          }
        },
        {
          "output_type": "stream",
          "text": [
            "count    113.000000\n",
            "mean       0.507154\n",
            "std        0.232631\n",
            "min        0.064216\n",
            "25%        0.305229\n",
            "50%        0.605277\n",
            "75%        0.704343\n",
            "max        0.962147\n",
            "Name: ∆w_s, dtype: float64\n",
            "<---------- TRUE ---------->\n",
            "<---------- PREDICT ---------->\n"
          ],
          "name": "stdout"
        },
        {
          "output_type": "display_data",
          "data": {
            "image/png": "[encoded data removed]",
            "text/plain": [
              "<Figure size 720x360 with 1 Axes>"
            ]
          },
          "metadata": {
            "tags": []
          }
        },
        {
          "output_type": "stream",
          "text": [
            "count    113.000000\n",
            "mean       0.510378\n",
            "std        0.234874\n",
            "min        0.076638\n",
            "25%        0.301436\n",
            "50%        0.600717\n",
            "75%        0.699199\n",
            "max        0.918216\n",
            "Name: 0, dtype: float64\n",
            "<---------- PREDICT ---------->\n",
            "pred (113, 1)\n",
            "true (113,)\n",
            "AVERAGE GAP 0    0.004801\n",
            "dtype: float64\n",
            "<---------- TRUE ---------->\n"
          ],
          "name": "stdout"
        },
        {
          "output_type": "display_data",
          "data": {
            "image/png": "[encoded data removed]",
            "text/plain": [
              "<Figure size 720x360 with 1 Axes>"
            ]
          },
          "metadata": {
            "tags": []
          }
        },
        {
          "output_type": "stream",
          "text": [
            "count    113.000000\n",
            "mean       0.071800\n",
            "std        0.055665\n",
            "min        0.006944\n",
            "25%        0.037037\n",
            "50%        0.055556\n",
            "75%        0.087963\n",
            "max        0.386574\n",
            "Name: ∆t, dtype: float64\n",
            "<---------- TRUE ---------->\n",
            "<---------- PREDICT ---------->\n"
          ],
          "name": "stdout"
        },
        {
          "output_type": "display_data",
          "data": {
            "image/png": "[encoded data removed]",
            "text/plain": [
              "<Figure size 720x360 with 1 Axes>"
            ]
          },
          "metadata": {
            "tags": []
          }
        },
        {
          "output_type": "stream",
          "text": [
            "count    113.000000\n",
            "mean       0.070617\n",
            "std        0.057974\n",
            "min        0.008722\n",
            "25%        0.032336\n",
            "50%        0.054023\n",
            "75%        0.091593\n",
            "max        0.398483\n",
            "Name: 0, dtype: float64\n",
            "<---------- PREDICT ---------->\n",
            "pred (113, 1)\n",
            "true (113,)\n",
            "AVERAGE GAP 0    0.035088\n",
            "dtype: float64\n",
            "<---------- TRUE ---------->\n"
          ],
          "name": "stdout"
        },
        {
          "output_type": "display_data",
          "data": {
            "image/png": "[encoded data removed]",
            "text/plain": [
              "<Figure size 720x360 with 1 Axes>"
            ]
          },
          "metadata": {
            "tags": []
          }
        },
        {
          "output_type": "stream",
          "text": [
            "count    113.000000\n",
            "mean       0.516506\n",
            "std        0.215648\n",
            "min        0.141411\n",
            "25%        0.327371\n",
            "50%        0.574403\n",
            "75%        0.709725\n",
            "max        0.940965\n",
            "Name: θ(∆w_s), dtype: float64\n",
            "<---------- TRUE ---------->\n",
            "<---------- PREDICT ---------->\n"
          ],
          "name": "stdout"
        },
        {
          "output_type": "display_data",
          "data": {
            "image/png": "[encoded data removed]",
            "text/plain": [
              "<Figure size 720x360 with 1 Axes>"
            ]
          },
          "metadata": {
            "tags": []
          }
        },
        {
          "output_type": "stream",
          "text": [
            "count    113.000000\n",
            "mean       0.507318\n",
            "std        0.208370\n",
            "min        0.154578\n",
            "25%        0.322713\n",
            "50%        0.589892\n",
            "75%        0.695940\n",
            "max        0.890472\n",
            "Name: 0, dtype: float64\n",
            "<---------- PREDICT ---------->\n"
          ],
          "name": "stdout"
        }
      ]
    },
    {
      "metadata": {
        "id": "3uNGTdktN4lj",
        "colab_type": "text"
      },
      "cell_type": "markdown",
      "source": [
        "### Plot Prediction"
      ]
    },
    {
      "metadata": {
        "colab_type": "code",
        "id": "Spq7Uji0fIJ7",
        "outputId": "fee44041-2418-4e72-a8d8-766124a7edf0",
        "colab": {
          "base_uri": "https://localhost:8080/",
          "height": 340
        }
      },
      "cell_type": "code",
      "source": [
        "\n",
        "#Short Term Prediction(1month・3months)\n",
        "def mean_absolute_percentage_error(y_true, y_pred): \n",
        "    y_true, y_pred = np.array(y_true), np.array(y_pred)\n",
        "    return np.mean(np.abs((y_true - y_pred) / y_true)) * 100\n",
        "\n",
        "def mse(y_true, y_pred):\n",
        "    mse = (abs(y_true - y_pred)**2).mean(axis=0)\n",
        "    return mse\n",
        "  \n",
        "def data_extract(fileName):\n",
        "    df = Data.dataLocalExtract()\n",
        "    return df\n",
        "\n",
        "def plot_prediction(data, model, start_month, end_month):\n",
        "\n",
        "        # Select the sequences from the given start-index and\n",
        "        # of the given length.\n",
        "\n",
        "        true = data.loc[start_month:end_month, :]\n",
        "        print(true.shape)\n",
        "        # Input-signals for the model.\n",
        "        true_expand = np.expand_dims(true, axis=0) #axis=0\n",
        "        print(\"true_expand\", true_expand.shape)\n",
        "        # Use the model to predict the output-signals.\n",
        "        pred = model.predict(true_expand)\n",
        "        print(\"pred shape\", pred.shape)\n",
        "        for signal in range(len(target)):\n",
        "          # Get the output-signal predicted by the model.\n",
        "          signal_pred = pred[0, :, signal] #   pred[0, :, 0]\n",
        "          signal_pred = pd.DataFrame(signal_pred)\n",
        "\n",
        "          print('<'+'-'*10 + str(start_month) + '-' + str(end_month) +'-'*10 + '>')\n",
        "          print(\"pred\", signal_pred.shape)\n",
        "          signal_true = true[str(target[signal])]\n",
        "          print('<'+'-'*10 + str(target[signal]) +'-'*10 + '>')\n",
        "          print(\"true\", signal_true.shape)\n",
        "          signal_pred.index = signal_true.index\n",
        "          gap = pd.DataFrame(abs(signal_pred[0]- signal_true))\n",
        "          print(\"MAPE: \", mean_absolute_percentage_error(signal_true, signal_pred[0]))\n",
        "          print(\"MSE: \", mse(signal_true, signal_pred[0]))\n",
        "          \n",
        "          gap.columns = ['gap']\n",
        "\n",
        "          dfResult = pd.concat([signal_pred,  signal_true, gap], axis=1, join_axes=[signal_pred.index])\n",
        "\n",
        "          dfResult.columns = ['Predict', 'True', 'Gap(Predict - True)']\n",
        "          print(\"AVERAGE GAP\", gap.mean())\n",
        "          print('<'+'-'*10+ '-'*10 + '>')\n",
        "          print(dfResult.describe())\n",
        "          print('<'+'-'*10+ '-'*10 + '>')\n",
        "          fig, ax1 = plt.subplots(figsize=(10,5))\n",
        "          ax2 = ax1.twinx()\n",
        "          plt.hist(signal_true, alpha=0.7)\n",
        "          plt.hist(signal_pred[0], alpha=0.4)\n",
        "          plt.show()\n",
        "          ax3 = ax1.twinx()\n",
        "\n",
        "\n",
        "fileName = 'significant_events_output_2016.xlsx'\n",
        "df_pred = data_extract(fileName)\n",
        "\n",
        "df_pred['w_s(t)'] = min_max_normalization(df_pred['w_s(t)'])\n",
        "df_pred['w_s(t+∆t)'] = min_max_normalization(df_pred['w_s(t+∆t)'])\n",
        "df_pred['t'] = min_max_normalization(df_pred['t'])\n",
        "df_pred['t+∆t'] = min_max_normalization(df_pred['t+∆t'])\n",
        "df_pred['∆w_s'] = min_max_normalization(df_pred['∆w_s'])\n",
        "df_pred['∆t'] = min_max_normalization(df_pred['∆t'])\n",
        "df_pred['θ(∆w_s)'] = min_max_normalization(df_pred['θ(∆w_s)'])\n",
        "\n",
        "true = df_pred.loc[:, ['w_s(t)', 'w_s(t+∆t)','t','t+∆t','∆w_s','∆t','θ(∆w_s)','mean(∆w_s)']].fillna(0)\n",
        "true = true.set_index([true.index.month, true.index])\n",
        "true.index.names = ['month', 'time']\n",
        "\n",
        "# print(\"True Description\", true.describe())#true.to_csv('./true.csv')\n",
        "print(true.describe())\n",
        "\n"
      ],
      "execution_count": 0,
      "outputs": [
        {
          "output_type": "stream",
          "text": [
            "           w_s(t)   w_s(t+∆t)           t        t+∆t        ∆w_s          ∆t  \\\n",
            "count  142.000000  142.000000  142.000000  142.000000  142.000000  142.000000   \n",
            "mean     0.368981    0.365861    0.546815    0.538150    0.509414    0.120802   \n",
            "std      0.246835    0.288298    0.309939    0.316874    0.235640    0.141396   \n",
            "min      0.000000    0.000000    0.000000    0.000000    0.000000    0.000000   \n",
            "25%      0.149981    0.097054    0.271225    0.255818    0.305936    0.041209   \n",
            "50%      0.343586    0.290632    0.566281    0.566819    0.597380    0.069597   \n",
            "75%      0.566056    0.614907    0.846786    0.846292    0.709146    0.145604   \n",
            "max      1.000000    1.000000    1.000000    1.000000    1.000000    1.000000   \n",
            "\n",
            "          θ(∆w_s)  mean(∆w_s)  \n",
            "count  142.000000  142.000000  \n",
            "mean     0.507328    0.303779  \n",
            "std      0.242688    0.126278  \n",
            "min      0.000000    0.112724  \n",
            "25%      0.306204    0.208424  \n",
            "50%      0.554260    0.283190  \n",
            "75%      0.711858    0.384342  \n",
            "max      1.000000    0.630118  \n"
          ],
          "name": "stdout"
        }
      ]
    },
    {
      "metadata": {
        "colab_type": "code",
        "id": "wg4Y95SKfIKA",
        "outputId": "1b0e2e95-2bd8-4075-bbd2-4c68d94a0837",
        "colab": {
          "base_uri": "https://localhost:8080/",
          "height": 10369
        }
      },
      "cell_type": "code",
      "source": [
        "plot_prediction(true, model_v1, start_month=1, end_month=1)\n",
        "plot_prediction(true, model_v1, start_month=1, end_month=3)\n",
        "plot_prediction(true, model_v1, start_month=1, end_month=6)\n",
        "plot_prediction(true, model_v1, start_month=1, end_month=12)"
      ],
      "execution_count": 0,
      "outputs": [
        {
          "output_type": "stream",
          "text": [
            "(8, 8)\n",
            "true_expand (1, 8, 8)\n",
            "pred shape (1, 8, 4)\n",
            "<----------1-1---------->\n",
            "pred (8, 1)\n",
            "<----------t---------->\n",
            "true (8,)\n",
            "MAPE:  inf\n",
            "MSE:  0.003389343636122229\n",
            "AVERAGE GAP gap    0.045496\n",
            "dtype: float64\n",
            "<-------------------->\n",
            "        Predict      True  Gap(Predict - True)\n",
            "count  8.000000  8.000000             8.000000\n",
            "mean   0.068092  0.043223             0.045496\n",
            "std    0.032270  0.025050             0.038833\n",
            "min    0.035443  0.000000             0.011506\n",
            "25%    0.045698  0.026782             0.019730\n",
            "50%    0.050993  0.047376             0.025113\n",
            "75%    0.094432  0.063388             0.067650\n",
            "max    0.118667  0.071150             0.118667\n",
            "<-------------------->\n"
          ],
          "name": "stdout"
        },
        {
          "output_type": "stream",
          "text": [
            "/usr/local/lib/python3.6/dist-packages/ipykernel_launcher.py:3: RuntimeWarning: divide by zero encountered in true_divide\n",
            "  This is separate from the ipykernel package so we can avoid doing imports until\n"
          ],
          "name": "stderr"
        },
        {
          "output_type": "display_data",
          "data": {
            "image/png": "[encoded data removed]",
            "text/plain": [
              "<Figure size 720x360 with 2 Axes>"
            ]
          },
          "metadata": {
            "tags": []
          }
        },
        {
          "output_type": "stream",
          "text": [
            "<----------1-1---------->\n",
            "pred (8, 1)\n",
            "<----------∆w_s---------->\n",
            "true (8,)\n",
            "MAPE:  10.131728829577444\n",
            "MSE:  0.005514243323680364\n",
            "AVERAGE GAP gap    0.055168\n",
            "dtype: float64\n",
            "<-------------------->\n",
            "        Predict      True  Gap(Predict - True)\n",
            "count  8.000000  8.000000             8.000000\n",
            "mean   0.555596  0.604711             0.055168\n",
            "std    0.254767  0.256164             0.053138\n",
            "min    0.210593  0.247843             0.020897\n",
            "25%    0.308626  0.362690             0.026819\n",
            "50%    0.626730  0.678255             0.035140\n",
            "75%    0.699571  0.761680             0.056825\n",
            "max    0.949951  0.970849             0.181784\n",
            "<-------------------->\n"
          ],
          "name": "stdout"
        },
        {
          "output_type": "display_data",
          "data": {
            "image/png": "[encoded data removed]",
            "text/plain": [
              "<Figure size 720x360 with 2 Axes>"
            ]
          },
          "metadata": {
            "tags": []
          }
        },
        {
          "output_type": "stream",
          "text": [
            "<----------1-1---------->\n",
            "pred (8, 1)\n",
            "<----------∆t---------->\n",
            "true (8,)\n",
            "MAPE:  15.52139170809847\n",
            "MSE:  0.0008828274458182208\n",
            "AVERAGE GAP gap    0.023356\n",
            "dtype: float64\n",
            "<-------------------->\n",
            "        Predict      True  Gap(Predict - True)\n",
            "count  8.000000  8.000000             8.000000\n",
            "mean   0.218068  0.229396             0.023356\n",
            "std    0.244593  0.268818             0.019634\n",
            "min    0.041128  0.047619             0.006491\n",
            "25%    0.084158  0.075092             0.011173\n",
            "50%    0.103033  0.093407             0.015549\n",
            "75%    0.255093  0.274725             0.028504\n",
            "max    0.765918  0.831502             0.065584\n",
            "<-------------------->\n"
          ],
          "name": "stdout"
        },
        {
          "output_type": "display_data",
          "data": {
            "image/png": "[encoded data removed]",
            "text/plain": [
              "<Figure size 720x360 with 2 Axes>"
            ]
          },
          "metadata": {
            "tags": []
          }
        },
        {
          "output_type": "stream",
          "text": [
            "<----------1-1---------->\n",
            "pred (8, 1)\n",
            "<----------θ(∆w_s)---------->\n",
            "true (8,)\n",
            "MAPE:  9.569779785245741\n",
            "MSE:  0.003914093176978811\n",
            "AVERAGE GAP gap    0.047434\n",
            "dtype: float64\n",
            "<-------------------->\n",
            "        Predict      True  Gap(Predict - True)\n",
            "count  8.000000  8.000000             8.000000\n",
            "mean   0.563462  0.555698             0.047434\n",
            "std    0.202411  0.192781             0.043610\n",
            "min    0.329254  0.266679             0.008387\n",
            "25%    0.354982  0.394662             0.010417\n",
            "50%    0.603887  0.592065             0.037891\n",
            "75%    0.703077  0.730600             0.072841\n",
            "max    0.859545  0.769181             0.126182\n",
            "<-------------------->\n"
          ],
          "name": "stdout"
        },
        {
          "output_type": "display_data",
          "data": {
            "image/png": "[encoded data removed]",
            "text/plain": [
              "<Figure size 720x360 with 2 Axes>"
            ]
          },
          "metadata": {
            "tags": []
          }
        },
        {
          "output_type": "stream",
          "text": [
            "(33, 8)\n",
            "true_expand (1, 33, 8)\n",
            "pred shape (1, 33, 4)\n",
            "<----------1-3---------->\n",
            "pred (33, 1)\n",
            "<----------t---------->\n",
            "true (33,)\n",
            "MAPE:  inf\n",
            "MSE:  0.000963534456534416\n",
            "AVERAGE GAP gap    0.020147\n",
            "dtype: float64\n",
            "<-------------------->\n",
            "         Predict       True  Gap(Predict - True)\n",
            "count  33.000000  33.000000            33.000000\n",
            "mean    0.122202   0.125031             0.020147\n",
            "std     0.055766   0.064180             0.023981\n",
            "min     0.035443   0.000000             0.000147\n",
            "25%     0.080730   0.079285             0.008995\n",
            "50%     0.115545   0.122823             0.015489\n",
            "75%     0.161642   0.177131             0.019735\n",
            "max     0.234087   0.241522             0.118667\n",
            "<-------------------->\n"
          ],
          "name": "stdout"
        },
        {
          "output_type": "display_data",
          "data": {
            "image/png": "[encoded data removed]",
            "text/plain": [
              "<Figure size 720x360 with 2 Axes>"
            ]
          },
          "metadata": {
            "tags": []
          }
        },
        {
          "output_type": "stream",
          "text": [
            "<----------1-3---------->\n",
            "pred (33, 1)\n",
            "<----------∆w_s---------->\n",
            "true (33,)\n",
            "MAPE:  7.070562887870737\n",
            "MSE:  0.0018589777891281057\n",
            "AVERAGE GAP gap    0.030544\n",
            "dtype: float64\n",
            "<-------------------->\n",
            "         Predict       True  Gap(Predict - True)\n",
            "count  33.000000  33.000000            33.000000\n",
            "mean    0.502932   0.514244             0.030544\n",
            "std     0.240008   0.236941             0.030902\n",
            "min     0.090453   0.096442             0.000378\n",
            "25%     0.305902   0.332111             0.017651\n",
            "50%     0.598720   0.607854             0.024212\n",
            "75%     0.642573   0.656872             0.032533\n",
            "max     0.949951   0.970849             0.181784\n",
            "<-------------------->\n"
          ],
          "name": "stdout"
        },
        {
          "output_type": "display_data",
          "data": {
            "image/png": "[encoded data removed]",
            "text/plain": [
              "<Figure size 720x360 with 2 Axes>"
            ]
          },
          "metadata": {
            "tags": []
          }
        },
        {
          "output_type": "stream",
          "text": [
            "<----------1-3---------->\n",
            "pred (33, 1)\n",
            "<----------∆t---------->\n",
            "true (33,)\n",
            "MAPE:  15.543321273942572\n",
            "MSE:  0.0003550031152837631\n",
            "AVERAGE GAP gap    0.013873\n",
            "dtype: float64\n",
            "<-------------------->\n",
            "         Predict       True  Gap(Predict - True)\n",
            "count  33.000000  33.000000            33.000000\n",
            "mean    0.158987   0.165057             0.013873\n",
            "std     0.165259   0.180135             0.012947\n",
            "min     0.020753   0.014652             0.000834\n",
            "25%     0.054141   0.054945             0.005859\n",
            "50%     0.092248   0.076923             0.010147\n",
            "75%     0.220536   0.234432             0.019841\n",
            "max     0.765918   0.831502             0.065584\n",
            "<-------------------->\n"
          ],
          "name": "stdout"
        },
        {
          "output_type": "display_data",
          "data": {
            "image/png": "[encoded data removed]",
            "text/plain": [
              "<Figure size 720x360 with 2 Axes>"
            ]
          },
          "metadata": {
            "tags": []
          }
        },
        {
          "output_type": "stream",
          "text": [
            "<----------1-3---------->\n",
            "pred (33, 1)\n",
            "<----------θ(∆w_s)---------->\n",
            "true (33,)\n",
            "MAPE:  10.419992617252237\n",
            "MSE:  0.0025593736126405904\n",
            "AVERAGE GAP gap    0.041782\n",
            "dtype: float64\n",
            "<-------------------->\n",
            "         Predict       True  Gap(Predict - True)\n",
            "count  33.000000  33.000000            33.000000\n",
            "mean    0.505288   0.505787             0.041782\n",
            "std     0.209336   0.219465             0.028966\n",
            "min     0.149978   0.134980             0.004379\n",
            "25%     0.331240   0.317398             0.016973\n",
            "50%     0.556203   0.545766             0.037852\n",
            "75%     0.647442   0.667559             0.062040\n",
            "max     0.960361   1.000000             0.126182\n",
            "<-------------------->\n"
          ],
          "name": "stdout"
        },
        {
          "output_type": "display_data",
          "data": {
            "image/png": "[encoded data removed]",
            "text/plain": [
              "<Figure size 720x360 with 2 Axes>"
            ]
          },
          "metadata": {
            "tags": []
          }
        },
        {
          "output_type": "stream",
          "text": [
            "(60, 8)\n",
            "true_expand (1, 60, 8)\n",
            "pred shape (1, 60, 4)\n",
            "<----------1-6---------->\n",
            "pred (60, 1)\n",
            "<----------t---------->\n",
            "true (60,)\n",
            "MAPE:  inf\n",
            "MSE:  0.0006201803898603308\n",
            "AVERAGE GAP gap    0.016704\n",
            "dtype: float64\n",
            "<-------------------->\n",
            "         Predict       True  Gap(Predict - True)\n",
            "count  60.000000  60.000000            60.000000\n",
            "mean    0.224114   0.230643             0.016704\n",
            "std     0.129817   0.134972             0.018626\n",
            "min     0.035443   0.000000             0.000147\n",
            "25%     0.111635   0.117238             0.009318\n",
            "50%     0.206481   0.208925             0.013850\n",
            "75%     0.316360   0.332006             0.018515\n",
            "max     0.459587   0.465170             0.118667\n",
            "<-------------------->\n"
          ],
          "name": "stdout"
        },
        {
          "output_type": "display_data",
          "data": {
            "image/png": "[encoded data removed]",
            "text/plain": [
              "<Figure size 720x360 with 2 Axes>"
            ]
          },
          "metadata": {
            "tags": []
          }
        },
        {
          "output_type": "stream",
          "text": [
            "<----------1-6---------->\n",
            "pred (60, 1)\n",
            "<----------∆w_s---------->\n",
            "true (60,)\n",
            "MAPE:  5.802453161444198\n",
            "MSE:  0.0012116521873745943\n",
            "AVERAGE GAP gap    0.02471\n",
            "dtype: float64\n",
            "<-------------------->\n",
            "         Predict       True  Gap(Predict - True)\n",
            "count  60.000000  60.000000            60.000000\n",
            "mean    0.503593   0.509000             0.024710\n",
            "std     0.235655   0.230644             0.024723\n",
            "min     0.090453   0.092419             0.000108\n",
            "25%     0.299117   0.327761             0.013617\n",
            "50%     0.597553   0.600372             0.021322\n",
            "75%     0.676585   0.701014             0.030127\n",
            "max     0.949951   0.970849             0.181784\n",
            "<-------------------->\n"
          ],
          "name": "stdout"
        },
        {
          "output_type": "display_data",
          "data": {
            "image/png": "[encoded data removed]",
            "text/plain": [
              "<Figure size 720x360 with 2 Axes>"
            ]
          },
          "metadata": {
            "tags": []
          }
        },
        {
          "output_type": "stream",
          "text": [
            "<----------1-6---------->\n",
            "pred (60, 1)\n",
            "<----------∆t---------->\n",
            "true (60,)\n",
            "MAPE:  12.833747301216505\n",
            "MSE:  0.00026590147189428377\n",
            "AVERAGE GAP gap    0.011787\n",
            "dtype: float64\n",
            "<-------------------->\n",
            "         Predict       True  Gap(Predict - True)\n",
            "count  60.000000  60.000000            60.000000\n",
            "mean    0.151273   0.156166             0.011787\n",
            "std     0.176818   0.187279             0.011363\n",
            "min     0.016180   0.014652             0.000113\n",
            "25%     0.052637   0.054029             0.004232\n",
            "50%     0.081550   0.076923             0.006758\n",
            "75%     0.181498   0.191392             0.017084\n",
            "max     0.979342   1.000000             0.065584\n",
            "<-------------------->\n"
          ],
          "name": "stdout"
        },
        {
          "output_type": "display_data",
          "data": {
            "image/png": "[encoded data removed]",
            "text/plain": [
              "<Figure size 720x360 with 2 Axes>"
            ]
          },
          "metadata": {
            "tags": []
          }
        },
        {
          "output_type": "stream",
          "text": [
            "<----------1-6---------->\n",
            "pred (60, 1)\n",
            "<----------θ(∆w_s)---------->\n",
            "true (60,)\n",
            "MAPE:  10.413703561110104\n",
            "MSE:  0.0025347931824938686\n",
            "AVERAGE GAP gap    0.042077\n",
            "dtype: float64\n",
            "<-------------------->\n",
            "         Predict       True  Gap(Predict - True)\n",
            "count  60.000000  60.000000            60.000000\n",
            "mean    0.499309   0.501504             0.042077\n",
            "std     0.206147   0.215654             0.027879\n",
            "min     0.149978   0.134980             0.004379\n",
            "25%     0.314602   0.316958             0.020469\n",
            "50%     0.552116   0.536581             0.037908\n",
            "75%     0.663930   0.669533             0.059158\n",
            "max     0.960361   1.000000             0.126182\n",
            "<-------------------->\n"
          ],
          "name": "stdout"
        },
        {
          "output_type": "display_data",
          "data": {
            "image/png": "[encoded data removed]",
            "text/plain": [
              "<Figure size 720x360 with 2 Axes>"
            ]
          },
          "metadata": {
            "tags": []
          }
        },
        {
          "output_type": "stream",
          "text": [
            "(142, 8)\n",
            "true_expand (1, 142, 8)\n",
            "pred shape (1, 142, 4)\n",
            "<----------1-12---------->\n",
            "pred (142, 1)\n",
            "<----------t---------->\n",
            "true (142,)\n",
            "MAPE:  inf\n",
            "MSE:  0.00034583855961640026\n",
            "AVERAGE GAP gap    0.012828\n",
            "dtype: float64\n",
            "<-------------------->\n",
            "          Predict        True  Gap(Predict - True)\n",
            "count  142.000000  142.000000           142.000000\n",
            "mean     0.538839    0.546815             0.012828\n",
            "std      0.307944    0.309939             0.013512\n",
            "min      0.035443    0.000000             0.000147\n",
            "25%      0.257215    0.271225             0.005647\n",
            "50%      0.555560    0.566281             0.010970\n",
            "75%      0.842980    0.846786             0.016500\n",
            "max      0.995412    1.000000             0.118667\n",
            "<-------------------->\n"
          ],
          "name": "stdout"
        },
        {
          "output_type": "display_data",
          "data": {
            "image/png": "[encoded data removed]",
            "text/plain": [
              "<Figure size 720x360 with 2 Axes>"
            ]
          },
          "metadata": {
            "tags": []
          }
        },
        {
          "output_type": "stream",
          "text": [
            "<----------1-12---------->\n",
            "pred (142, 1)\n",
            "<----------∆w_s---------->\n",
            "true (142,)\n",
            "MAPE:  nan\n",
            "MSE:  0.0011303885553997726\n",
            "AVERAGE GAP gap    0.025604\n",
            "dtype: float64\n",
            "<-------------------->\n",
            "          Predict        True  Gap(Predict - True)\n",
            "count  142.000000  142.000000           142.000000\n",
            "mean     0.508553    0.509414             0.025604\n",
            "std      0.249836    0.235640             0.021867\n",
            "min      0.000000    0.000000             0.000000\n",
            "25%      0.289826    0.305936             0.011700\n",
            "50%      0.600221    0.597380             0.021420\n",
            "75%      0.720071    0.709146             0.033690\n",
            "max      1.008421    1.000000             0.181784\n",
            "<-------------------->\n"
          ],
          "name": "stdout"
        },
        {
          "output_type": "stream",
          "text": [
            "/usr/local/lib/python3.6/dist-packages/ipykernel_launcher.py:3: RuntimeWarning: invalid value encountered in true_divide\n",
            "  This is separate from the ipykernel package so we can avoid doing imports until\n"
          ],
          "name": "stderr"
        },
        {
          "output_type": "display_data",
          "data": {
            "image/png": "[encoded data removed]",
            "text/plain": [
              "<Figure size 720x360 with 2 Axes>"
            ]
          },
          "metadata": {
            "tags": []
          }
        },
        {
          "output_type": "stream",
          "text": [
            "<----------1-12---------->\n",
            "pred (142, 1)\n",
            "<----------∆t---------->\n",
            "true (142,)\n",
            "MAPE:  nan\n",
            "MSE:  0.00013526347803363343\n",
            "AVERAGE GAP gap    0.007727\n",
            "dtype: float64\n",
            "<-------------------->\n",
            "          Predict        True  Gap(Predict - True)\n",
            "count  142.000000  142.000000           142.000000\n",
            "mean     0.116988    0.120802             0.007727\n",
            "std      0.135582    0.141396             0.008723\n",
            "min      0.000000    0.000000             0.000000\n",
            "25%      0.040542    0.041209             0.002462\n",
            "50%      0.065098    0.069597             0.005303\n",
            "75%      0.144647    0.145604             0.009587\n",
            "max      0.979342    1.000000             0.065584\n",
            "<-------------------->\n"
          ],
          "name": "stdout"
        },
        {
          "output_type": "display_data",
          "data": {
            "image/png": "[encoded data removed]",
            "text/plain": [
              "<Figure size 720x360 with 2 Axes>"
            ]
          },
          "metadata": {
            "tags": []
          }
        },
        {
          "output_type": "stream",
          "text": [
            "<----------1-12---------->\n",
            "pred (142, 1)\n",
            "<----------θ(∆w_s)---------->\n",
            "true (142,)\n",
            "MAPE:  inf\n",
            "MSE:  0.002936673604202078\n",
            "AVERAGE GAP gap    0.045708\n",
            "dtype: float64\n",
            "<-------------------->\n",
            "          Predict        True  Gap(Predict - True)\n",
            "count  142.000000  142.000000           142.000000\n",
            "mean     0.503808    0.507328             0.045708\n",
            "std      0.224332    0.242688             0.029214\n",
            "min      0.079796    0.000000             0.000724\n",
            "25%      0.303353    0.306204             0.023267\n",
            "50%      0.571667    0.554260             0.040725\n",
            "75%      0.694673    0.711858             0.063078\n",
            "max      0.960361    1.000000             0.126182\n",
            "<-------------------->\n"
          ],
          "name": "stdout"
        },
        {
          "output_type": "display_data",
          "data": {
            "image/png": "[encoded data removed]",
            "text/plain": [
              "<Figure size 720x360 with 2 Axes>"
            ]
          },
          "metadata": {
            "tags": []
          }
        }
      ]
    }
  ]
}